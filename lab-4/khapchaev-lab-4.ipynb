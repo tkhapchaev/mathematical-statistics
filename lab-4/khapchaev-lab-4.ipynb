{
 "cells": [
  {
   "cell_type": "markdown",
   "source": [
    "# Лабораторная работа № 4\n",
    "## Хапчаев Тимур Русланович M32071\n",
    "### Вариант 4"
   ],
   "metadata": {
    "collapsed": false
   }
  },
  {
   "cell_type": "code",
   "execution_count": 22,
   "id": "e60644bd",
   "metadata": {
    "ExecuteTime": {
     "start_time": "2023-05-01T00:11:09.013205Z",
     "end_time": "2023-05-01T00:11:09.123253Z"
    }
   },
   "outputs": [
    {
     "data": {
      "text/plain": "                    song_name  song_popularity  song_duration_ms   \n0  Boulevard of Broken Dreams               73            262333  \\\n1                  In The End               66            216933   \n2           Seven Nation Army               76            231733   \n3                  By The Way               74            216933   \n4           How You Remind Me               56            223826   \n\n   acousticness  danceability  energy  instrumentalness  key  liveness   \n0      0.005520         0.496   0.682          0.000029    8    0.0589  \\\n1      0.010300         0.542   0.853          0.000000    3    0.1080   \n2      0.008170         0.737   0.463          0.447000    0    0.2550   \n3      0.026400         0.451   0.970          0.003550    0    0.1020   \n4      0.000954         0.447   0.766          0.000000   10    0.1130   \n\n   loudness  audio_mode  speechiness    tempo  time_signature  audio_valence  \n0    -4.095           1       0.0294  167.060               4          0.474  \n1    -6.407           0       0.0498  105.256               4          0.370  \n2    -7.828           1       0.0792  123.881               4          0.324  \n3    -4.938           1       0.1070  122.444               4          0.198  \n4    -5.065           1       0.0313  172.011               4          0.574  ",
      "text/html": "<div>\n<style scoped>\n    .dataframe tbody tr th:only-of-type {\n        vertical-align: middle;\n    }\n\n    .dataframe tbody tr th {\n        vertical-align: top;\n    }\n\n    .dataframe thead th {\n        text-align: right;\n    }\n</style>\n<table border=\"1\" class=\"dataframe\">\n  <thead>\n    <tr style=\"text-align: right;\">\n      <th></th>\n      <th>song_name</th>\n      <th>song_popularity</th>\n      <th>song_duration_ms</th>\n      <th>acousticness</th>\n      <th>danceability</th>\n      <th>energy</th>\n      <th>instrumentalness</th>\n      <th>key</th>\n      <th>liveness</th>\n      <th>loudness</th>\n      <th>audio_mode</th>\n      <th>speechiness</th>\n      <th>tempo</th>\n      <th>time_signature</th>\n      <th>audio_valence</th>\n    </tr>\n  </thead>\n  <tbody>\n    <tr>\n      <th>0</th>\n      <td>Boulevard of Broken Dreams</td>\n      <td>73</td>\n      <td>262333</td>\n      <td>0.005520</td>\n      <td>0.496</td>\n      <td>0.682</td>\n      <td>0.000029</td>\n      <td>8</td>\n      <td>0.0589</td>\n      <td>-4.095</td>\n      <td>1</td>\n      <td>0.0294</td>\n      <td>167.060</td>\n      <td>4</td>\n      <td>0.474</td>\n    </tr>\n    <tr>\n      <th>1</th>\n      <td>In The End</td>\n      <td>66</td>\n      <td>216933</td>\n      <td>0.010300</td>\n      <td>0.542</td>\n      <td>0.853</td>\n      <td>0.000000</td>\n      <td>3</td>\n      <td>0.1080</td>\n      <td>-6.407</td>\n      <td>0</td>\n      <td>0.0498</td>\n      <td>105.256</td>\n      <td>4</td>\n      <td>0.370</td>\n    </tr>\n    <tr>\n      <th>2</th>\n      <td>Seven Nation Army</td>\n      <td>76</td>\n      <td>231733</td>\n      <td>0.008170</td>\n      <td>0.737</td>\n      <td>0.463</td>\n      <td>0.447000</td>\n      <td>0</td>\n      <td>0.2550</td>\n      <td>-7.828</td>\n      <td>1</td>\n      <td>0.0792</td>\n      <td>123.881</td>\n      <td>4</td>\n      <td>0.324</td>\n    </tr>\n    <tr>\n      <th>3</th>\n      <td>By The Way</td>\n      <td>74</td>\n      <td>216933</td>\n      <td>0.026400</td>\n      <td>0.451</td>\n      <td>0.970</td>\n      <td>0.003550</td>\n      <td>0</td>\n      <td>0.1020</td>\n      <td>-4.938</td>\n      <td>1</td>\n      <td>0.1070</td>\n      <td>122.444</td>\n      <td>4</td>\n      <td>0.198</td>\n    </tr>\n    <tr>\n      <th>4</th>\n      <td>How You Remind Me</td>\n      <td>56</td>\n      <td>223826</td>\n      <td>0.000954</td>\n      <td>0.447</td>\n      <td>0.766</td>\n      <td>0.000000</td>\n      <td>10</td>\n      <td>0.1130</td>\n      <td>-5.065</td>\n      <td>1</td>\n      <td>0.0313</td>\n      <td>172.011</td>\n      <td>4</td>\n      <td>0.574</td>\n    </tr>\n  </tbody>\n</table>\n</div>"
     },
     "execution_count": 22,
     "metadata": {},
     "output_type": "execute_result"
    }
   ],
   "source": [
    "import numpy as np\n",
    "import pandas as pd\n",
    "import scipy.stats as sps\n",
    "from statsmodels.stats.diagnostic import lilliefors\n",
    "\n",
    "data = pd.read_csv(\"/Users/tkhapchaev/Documents/GitHub/mathematical-statistics/lab-4/song_data.csv\")\n",
    "data.head()"
   ]
  },
  {
   "cell_type": "code",
   "execution_count": 23,
   "id": "746a5532",
   "metadata": {
    "ExecuteTime": {
     "start_time": "2023-05-01T00:11:09.051435Z",
     "end_time": "2023-05-01T00:11:09.124833Z"
    }
   },
   "outputs": [
    {
     "name": "stdout",
     "output_type": "stream",
     "text": [
      "<class 'pandas.core.frame.DataFrame'>\n",
      "RangeIndex: 18835 entries, 0 to 18834\n",
      "Data columns (total 15 columns):\n",
      " #   Column            Non-Null Count  Dtype  \n",
      "---  ------            --------------  -----  \n",
      " 0   song_name         18835 non-null  object \n",
      " 1   song_popularity   18835 non-null  int64  \n",
      " 2   song_duration_ms  18835 non-null  int64  \n",
      " 3   acousticness      18835 non-null  float64\n",
      " 4   danceability      18835 non-null  float64\n",
      " 5   energy            18835 non-null  float64\n",
      " 6   instrumentalness  18835 non-null  float64\n",
      " 7   key               18835 non-null  int64  \n",
      " 8   liveness          18835 non-null  float64\n",
      " 9   loudness          18835 non-null  float64\n",
      " 10  audio_mode        18835 non-null  int64  \n",
      " 11  speechiness       18835 non-null  float64\n",
      " 12  tempo             18835 non-null  float64\n",
      " 13  time_signature    18835 non-null  int64  \n",
      " 14  audio_valence     18835 non-null  float64\n",
      "dtypes: float64(9), int64(5), object(1)\n",
      "memory usage: 2.2+ MB\n"
     ]
    }
   ],
   "source": [
    "data.info()"
   ]
  },
  {
   "cell_type": "markdown",
   "id": "2e52615e",
   "metadata": {},
   "source": [
    "### Задание 1"
   ]
  },
  {
   "cell_type": "markdown",
   "id": "f98fce19",
   "metadata": {},
   "source": [
    "Пусть $X$ - случайная величина, популярность песни. Тогда нулевая гипотеза имеет вид:<br>\n",
    "<br>\n",
    "$H_0: X$ имеет нормальное распределение, <br>\n",
    "<br>\n",
    "альтернативная гипотеза имеет вид:<br>\n",
    "<br>\n",
    "$H_1: X$ имеет распределение, отличное от нормального.<br>\n",
    "<br>\n",
    "Для проверки данного утверждения воспользуемся двумя критериями согласия - критерием согласия Лиллиефорса, и критерием согласия Шапиро-Уилка. Далее везде используем уровень значимости $\\alpha = 0.05$."
   ]
  },
  {
   "cell_type": "markdown",
   "id": "39049f65",
   "metadata": {},
   "source": [
    "Статистика критерия Лиллиефорса имеет вид $D_n = \\underset{x \\in \\mathbb{R}}{\\sup} |\\widehat{F_n}(x) - F_0(x)|$, где $\\widehat{F_n}(x)$ - эмпирическая функция распределения выборки в точке $x$, $F_0(x)$ - теоретическая функция распределения случайной величины, согласие с законом распределения которой тестируется, причем неизвестные параметры этого теоретического распределения оцениваются по имеющейся выборке (в нашем случае $F_0(x)$ - это функция нормального распределения, для которого математическое ожидание и дисперсия оцениваются как выборочное среднее и выборочная несмещенная дисперсия по имеющейся выборке популярности песни соответственно), $n$ - объем имеющейся выборки.\n",
    "Стоит отметить, что тест Лиллиефорса - это, фактически, расширение критерия согласия Колмогорова на случай неизвестных параметров тестируемого распределения (применение этих критериев корректно в случае непрерывных функций распределения $F(x)$ и $F_0(x)$, в нашем случае мы предполагаем непрерывность величины $X$ в силу специфики данных, и непрерывность функции нормального распределения $F_0(x)$ очевидна).\n",
    "Нулевая гипотеза отвергается на уровне значимости $\\alpha$, если значение статистики $D_n$, посчитанное по имеющей выборке, превышает критическое значение распределения Лиллиефорса (при истинной нулевой гипотезе), соответствующее уровню значимости $\\alpha$. Данные критические значения для разных объемов выборки приведены в таблицах. В нашем случае для 5% уровня значимости критическое значение определяется по формуле $0.886/\\sqrt{n}$, и равно $0.886/\\sqrt{18835} \\approx 0.006$.<br>\n",
    "<br>\n",
    "Посчитаем значение статистики и p-value теста. Если p-value получится меньше, либо равно 0.05, то отвергаем нулевую гипотезу (так как это эквивалентно тому, что значение статистики критерия по выборке превысило критическое значение)."
   ]
  },
  {
   "cell_type": "code",
   "execution_count": 24,
   "id": "82237797",
   "metadata": {
    "ExecuteTime": {
     "start_time": "2023-05-01T00:11:09.056826Z",
     "end_time": "2023-05-01T00:11:09.124970Z"
    }
   },
   "outputs": [
    {
     "data": {
      "text/plain": "0.0064558125177343805"
     },
     "execution_count": 24,
     "metadata": {},
     "output_type": "execute_result"
    }
   ],
   "source": [
    "0.886 / np.sqrt(18835)"
   ]
  },
  {
   "cell_type": "code",
   "execution_count": 25,
   "id": "3da8d821",
   "metadata": {
    "ExecuteTime": {
     "start_time": "2023-05-01T00:11:09.060426Z",
     "end_time": "2023-05-01T00:11:09.125449Z"
    }
   },
   "outputs": [
    {
     "name": "stdout",
     "output_type": "stream",
     "text": [
      "Значение тестовой статистики и p-value теста Лиллиефорса составили, соответственно: 0.062 и 0.001.\n"
     ]
    }
   ],
   "source": [
    "test_value = round(lilliefors(x = data[\"song_popularity\"], dist = \"norm\")[0], ndigits = 3)\n",
    "p_value = round(lilliefors(x = data[\"song_popularity\"], dist = \"norm\")[1], ndigits = 3)\n",
    "\n",
    "print(f'Значение тестовой статистики и p-value теста Лиллиефорса составили, соответственно: {test_value} и {p_value}.')"
   ]
  },
  {
   "cell_type": "code",
   "execution_count": 26,
   "id": "99b1529c",
   "metadata": {
    "ExecuteTime": {
     "start_time": "2023-05-01T00:11:09.068293Z",
     "end_time": "2023-05-01T00:11:09.125834Z"
    }
   },
   "outputs": [
    {
     "data": {
      "text/plain": "True"
     },
     "execution_count": 26,
     "metadata": {},
     "output_type": "execute_result"
    }
   ],
   "source": [
    "mean = (data[\"song_popularity\"] - np.mean(data[\"song_popularity\"]))\n",
    "var = np.sqrt(np.var(data[\"song_popularity\"], ddof = 1))\n",
    "\n",
    "eq = sps.kstest(mean / var, \"norm\")[0] == lilliefors(data[\"song_popularity\"], dist = \"norm\")[0]\n",
    "eq"
   ]
  },
  {
   "cell_type": "markdown",
   "source": [
    "Значение статистики совпадает с полученной выше для критерия Колмогорова, где данные отскалированы на выборочное среднее и несмещенную дисперсию, посчитанные по выборке."
   ],
   "metadata": {
    "collapsed": false
   }
  },
  {
   "cell_type": "markdown",
   "id": "3e71f1b1",
   "metadata": {},
   "source": [
    "Таким образом, имеем значение статистики по выборке в 0.062, что больше критического значения 0.006 (аналогично, p-value 0.001 меньше, чем 0.05), из чего следует отвержение нулевой гипотезы на уровне значимости 0.05. Другими словами, с максимальной вероятностью ошибки первого рода в 0.05 можно утверждать, что популярность песни имеет распределение, отличное от нормального."
   ]
  },
  {
   "cell_type": "markdown",
   "id": "25f5cc5f",
   "metadata": {},
   "source": [
    "Тестовая статистика критерия Шапиро-Уилка имеет вид $\\dfrac{(\\sum_{i=1}^{n} a_i x_{(i)})^2}{\\sum_{i=1}^{n} (x_i - \\overline{x})^2}$, где $x_{(i)}$ - i-я порядковая статистика по выборке (i-е по порядку значение популярности песни при упорядочении выборки по возрастанию), $\\overline{x} = \\dfrac{\\sum_{i=1}^{n} x_i}{n}$ - выборочное среднее, $a_i$ - коэффициенты, определяемые по специальным формулам и таблицам. <br>\n",
    "<br>\n",
    "\n",
    "Нулевая гипотеза отвергается на уровне значимости $\\alpha$, если значение статистики $W$, посчитанное по имеющей выборке, превышает некоторое критическое значение (посчитанное при истинной нулевой гипотезе), соответствующее уровню значимости $\\alpha$.\n",
    "<br>\n",
    "Посчитаем теперь значение статистики и p-value теста:"
   ]
  },
  {
   "cell_type": "code",
   "execution_count": 27,
   "id": "13e1d128",
   "metadata": {
    "ExecuteTime": {
     "start_time": "2023-05-01T00:11:09.086788Z",
     "end_time": "2023-05-01T00:11:09.132764Z"
    }
   },
   "outputs": [
    {
     "name": "stdout",
     "output_type": "stream",
     "text": [
      "Значение тестовой статистики и p-value теста Шапиро-Уилка составили, соответственно: 0.973 и 0.0.\n"
     ]
    },
    {
     "name": "stderr",
     "output_type": "stream",
     "text": [
      "/Library/Python/3.9/site-packages/scipy/stats/_morestats.py:1816: UserWarning: p-value may not be accurate for N > 5000.\n",
      "  warnings.warn(\"p-value may not be accurate for N > 5000.\")\n"
     ]
    }
   ],
   "source": [
    "test_value = round(sps.shapiro(data[\"song_popularity\"])[0], ndigits = 3)\n",
    "p_value = round(sps.shapiro(data[\"song_popularity\"])[1], ndigits = 3)\n",
    "\n",
    "print(f'Значение тестовой статистики и p-value теста Шапиро-Уилка составили, соответственно: {test_value} и {p_value}.')"
   ]
  },
  {
   "cell_type": "code",
   "execution_count": 28,
   "id": "0609d60a",
   "metadata": {
    "ExecuteTime": {
     "start_time": "2023-05-01T00:11:09.091848Z",
     "end_time": "2023-05-01T00:11:09.133176Z"
    }
   },
   "outputs": [
    {
     "data": {
      "text/plain": "ShapiroResult(statistic=0.9732725024223328, pvalue=0.0)"
     },
     "execution_count": 28,
     "metadata": {},
     "output_type": "execute_result"
    }
   ],
   "source": [
    "sps.shapiro(data[\"song_popularity\"])"
   ]
  },
  {
   "cell_type": "markdown",
   "id": "51f3779f",
   "metadata": {},
   "source": [
    "Таким образом, имеем значение p-value около 0, что меньше, чем 0.05, откуда с максимальной вероятностью ошибки первого рода в 0.05 можем отвергнуть нулевую гипотезу о нормальном распределении популярности песни."
   ]
  },
  {
   "cell_type": "markdown",
   "id": "6cc18e89",
   "metadata": {},
   "source": [
    "Имеем отвержение гипотезы нормальности (на уровне значимости 0.05) популярности песни в обоих случаях, таким образом аппроксимировать популярность песни нормальным законом не следует."
   ]
  },
  {
   "cell_type": "markdown",
   "id": "5b4f6756",
   "metadata": {},
   "source": [
    "### Задание 2"
   ]
  },
  {
   "cell_type": "code",
   "execution_count": 29,
   "id": "4f9a868e",
   "metadata": {
    "ExecuteTime": {
     "start_time": "2023-05-01T00:11:09.100466Z",
     "end_time": "2023-05-01T00:11:09.133350Z"
    }
   },
   "outputs": [
    {
     "data": {
      "text/plain": "                    song_name  song_popularity  song_duration_ms   \n0  Boulevard of Broken Dreams               73            262333  \\\n1                  In The End               66            216933   \n2           Seven Nation Army               76            231733   \n3                  By The Way               74            216933   \n4           How You Remind Me               56            223826   \n\n   acousticness  danceability  energy  instrumentalness  key  liveness   \n0      0.005520         0.496   0.682          0.000029    8    0.0589  \\\n1      0.010300         0.542   0.853          0.000000    3    0.1080   \n2      0.008170         0.737   0.463          0.447000    0    0.2550   \n3      0.026400         0.451   0.970          0.003550    0    0.1020   \n4      0.000954         0.447   0.766          0.000000   10    0.1130   \n\n   loudness  audio_mode  speechiness    tempo  time_signature  audio_valence  \n0    -4.095           1       0.0294  167.060               4          0.474  \n1    -6.407           0       0.0498  105.256               4          0.370  \n2    -7.828           1       0.0792  123.881               4          0.324  \n3    -4.938           1       0.1070  122.444               4          0.198  \n4    -5.065           1       0.0313  172.011               4          0.574  ",
      "text/html": "<div>\n<style scoped>\n    .dataframe tbody tr th:only-of-type {\n        vertical-align: middle;\n    }\n\n    .dataframe tbody tr th {\n        vertical-align: top;\n    }\n\n    .dataframe thead th {\n        text-align: right;\n    }\n</style>\n<table border=\"1\" class=\"dataframe\">\n  <thead>\n    <tr style=\"text-align: right;\">\n      <th></th>\n      <th>song_name</th>\n      <th>song_popularity</th>\n      <th>song_duration_ms</th>\n      <th>acousticness</th>\n      <th>danceability</th>\n      <th>energy</th>\n      <th>instrumentalness</th>\n      <th>key</th>\n      <th>liveness</th>\n      <th>loudness</th>\n      <th>audio_mode</th>\n      <th>speechiness</th>\n      <th>tempo</th>\n      <th>time_signature</th>\n      <th>audio_valence</th>\n    </tr>\n  </thead>\n  <tbody>\n    <tr>\n      <th>0</th>\n      <td>Boulevard of Broken Dreams</td>\n      <td>73</td>\n      <td>262333</td>\n      <td>0.005520</td>\n      <td>0.496</td>\n      <td>0.682</td>\n      <td>0.000029</td>\n      <td>8</td>\n      <td>0.0589</td>\n      <td>-4.095</td>\n      <td>1</td>\n      <td>0.0294</td>\n      <td>167.060</td>\n      <td>4</td>\n      <td>0.474</td>\n    </tr>\n    <tr>\n      <th>1</th>\n      <td>In The End</td>\n      <td>66</td>\n      <td>216933</td>\n      <td>0.010300</td>\n      <td>0.542</td>\n      <td>0.853</td>\n      <td>0.000000</td>\n      <td>3</td>\n      <td>0.1080</td>\n      <td>-6.407</td>\n      <td>0</td>\n      <td>0.0498</td>\n      <td>105.256</td>\n      <td>4</td>\n      <td>0.370</td>\n    </tr>\n    <tr>\n      <th>2</th>\n      <td>Seven Nation Army</td>\n      <td>76</td>\n      <td>231733</td>\n      <td>0.008170</td>\n      <td>0.737</td>\n      <td>0.463</td>\n      <td>0.447000</td>\n      <td>0</td>\n      <td>0.2550</td>\n      <td>-7.828</td>\n      <td>1</td>\n      <td>0.0792</td>\n      <td>123.881</td>\n      <td>4</td>\n      <td>0.324</td>\n    </tr>\n    <tr>\n      <th>3</th>\n      <td>By The Way</td>\n      <td>74</td>\n      <td>216933</td>\n      <td>0.026400</td>\n      <td>0.451</td>\n      <td>0.970</td>\n      <td>0.003550</td>\n      <td>0</td>\n      <td>0.1020</td>\n      <td>-4.938</td>\n      <td>1</td>\n      <td>0.1070</td>\n      <td>122.444</td>\n      <td>4</td>\n      <td>0.198</td>\n    </tr>\n    <tr>\n      <th>4</th>\n      <td>How You Remind Me</td>\n      <td>56</td>\n      <td>223826</td>\n      <td>0.000954</td>\n      <td>0.447</td>\n      <td>0.766</td>\n      <td>0.000000</td>\n      <td>10</td>\n      <td>0.1130</td>\n      <td>-5.065</td>\n      <td>1</td>\n      <td>0.0313</td>\n      <td>172.011</td>\n      <td>4</td>\n      <td>0.574</td>\n    </tr>\n  </tbody>\n</table>\n</div>"
     },
     "execution_count": 29,
     "metadata": {},
     "output_type": "execute_result"
    }
   ],
   "source": [
    "data.head()"
   ]
  },
  {
   "cell_type": "code",
   "execution_count": 30,
   "id": "14494987",
   "metadata": {
    "ExecuteTime": {
     "start_time": "2023-05-01T00:11:09.103455Z",
     "end_time": "2023-05-01T00:11:09.133471Z"
    }
   },
   "outputs": [],
   "source": [
    "border_duration = round(np.quantile(data[\"song_duration_ms\"], 0.6))"
   ]
  },
  {
   "cell_type": "code",
   "execution_count": 31,
   "outputs": [
    {
     "data": {
      "text/plain": "221512"
     },
     "execution_count": 31,
     "metadata": {},
     "output_type": "execute_result"
    }
   ],
   "source": [
    "border_duration"
   ],
   "metadata": {
    "collapsed": false,
    "ExecuteTime": {
     "start_time": "2023-05-01T00:11:09.106668Z",
     "end_time": "2023-05-01T00:11:09.133629Z"
    }
   }
  },
  {
   "cell_type": "markdown",
   "id": "49be0078",
   "metadata": {},
   "source": [
    "Задачу тестирования значимости отличий рейтинга популярности \"длинных\" и \"коротких\" песен можно свести к задаче тестирования гипотезы о том, что выборки популярности длинных и коротких песен взяты из одной и той же генеральной совокупности, то есть гипотезы однородности. Итак, пусть $X$ - случайная величина - популярность коротких песен, $Y$ - случайная величина - популярность длинных песен. Сделаем разбиение на длинные и короткие песни следующим образом: те песни, у которых продолжительность не превышает выборочный квантиль уровня 0.6 по имеющейся выборке продолжительности песен (округленный до целого числа) будем считать короткими, остальные - длинными. Мы проверяем гипотезу:<br>\n",
    "<br>\n",
    "$H_0: F(x) = G(x)$ для всех $x \\in \\mathbb R$\n",
    "\n",
    "$H_1: F(x) \\neq G(x)$ для всех $x \\in \\mathbb R$,<br>\n",
    "<br>\n",
    "где $F(x)$ и $G(x)$ - функции распределения случайных величин $X$ и $Y$ соответственно, причем эти функции распределения непрерывны (сделаем такое предположение исходя из данных, которые не дискретны). <br>\n",
    "<br>\n",
    "Первый способ тестирования - ***критерий однородности Колмогорова***.<br>\n",
    "<br>\n",
    "Если $H_0$ верна, то $F(x) = G(x) = F_0(X)$\n",
    "\n",
    " $F^*_n$ эмпирическая ф-я распределения, построенная по выборке $X_{[n]}$\n",
    "\n",
    " $G^*_m$ эмпирическая ф-я распределения, построенная по выборке $Y_{[m]}$<br>\n",
    " <br>\n",
    " Статистика критерия имеет вид $D_{m,n} = \\overset{}{\\underset{x \\in \\mathbb R}{sup}} | G^*_m(x, Y_{[m]}) - F^*_n(x, X_{[n]})|$<br>\n",
    " <br>\n",
    " Если $F_0(x) = F(x) = G(x)$ непрерывна, тогда\n",
    "\n",
    "$P(\\sqrt{\\frac{mn}{m + n}} D_{m, n} < z) \\xrightarrow[n, m \\rightarrow \\infty]{} K(z) = \\sum \\limits_{j = - \\infty}^{\\infty} (-1)^j e^{-2j^2z^2}$, где\n",
    "\n",
    "$K(z)$ - ф-я распред. Колмогорова.<br>\n",
    "<br>\n",
    "Критическая область:<br>\n",
    "<br>\n",
    "$V_k = (d_{1 - \\alpha}, + \\infty)$, где\n",
    "\n",
    "$d_{1 - \\alpha}$ квантиль Колмогорова.\n",
    "\n",
    "$\\sqrt{\\frac{mn}{m + n}} D_{m, n} \\in V_k \\Rightarrow H_0$ отвергается.<br>\n",
    "<br>\n",
    "Рассчитаем теперь p-value теста для нашей задачи, если оно меньше, либо равно 0.05 (что эквивалентно превышению значением статистики критерия по выборке критического значения), то отвергаем нулевую гипотезу на 5% уровне значимости."
   ]
  },
  {
   "cell_type": "code",
   "execution_count": 32,
   "id": "62d78464",
   "metadata": {
    "ExecuteTime": {
     "start_time": "2023-05-01T00:11:09.109936Z",
     "end_time": "2023-05-01T00:11:09.133971Z"
    }
   },
   "outputs": [
    {
     "data": {
      "text/plain": "True"
     },
     "execution_count": 32,
     "metadata": {},
     "output_type": "execute_result"
    }
   ],
   "source": [
    "popularity_long = data[data[\"song_duration_ms\"] > border_duration][\"song_popularity\"]\n",
    "popularity_short = data[data[\"song_duration_ms\"] <= border_duration][\"song_popularity\"]\n",
    "\n",
    "eq = len(popularity_short) + len(popularity_long) == len(data[\"song_popularity\"])\n",
    "eq"
   ]
  },
  {
   "cell_type": "code",
   "execution_count": 33,
   "id": "71a83b39",
   "metadata": {
    "ExecuteTime": {
     "start_time": "2023-05-01T00:11:09.114671Z",
     "end_time": "2023-05-01T00:11:09.134472Z"
    }
   },
   "outputs": [
    {
     "data": {
      "text/plain": "0    73\n2    76\n4    56\n5    80\n8    80\nName: song_popularity, dtype: int64"
     },
     "execution_count": 33,
     "metadata": {},
     "output_type": "execute_result"
    }
   ],
   "source": [
    "popularity_long[:5]"
   ]
  },
  {
   "cell_type": "code",
   "execution_count": 34,
   "id": "1abf568a",
   "metadata": {
    "ExecuteTime": {
     "start_time": "2023-05-01T00:11:09.118146Z",
     "end_time": "2023-05-01T00:11:09.134596Z"
    }
   },
   "outputs": [
    {
     "data": {
      "text/plain": "1    66\n3    74\n6    81\n7    76\n9    81\nName: song_popularity, dtype: int64"
     },
     "execution_count": 34,
     "metadata": {},
     "output_type": "execute_result"
    }
   ],
   "source": [
    "popularity_short[:5]"
   ]
  },
  {
   "cell_type": "code",
   "execution_count": 35,
   "id": "10bf9471",
   "metadata": {
    "ExecuteTime": {
     "start_time": "2023-05-01T00:11:09.123373Z",
     "end_time": "2023-05-01T00:11:09.134707Z"
    }
   },
   "outputs": [
    {
     "data": {
      "text/plain": "0.03172285638439076"
     },
     "execution_count": 35,
     "metadata": {},
     "output_type": "execute_result"
    }
   ],
   "source": [
    "sps.ks_2samp(data1 = popularity_short, data2 = popularity_long)[0]"
   ]
  },
  {
   "cell_type": "code",
   "execution_count": 36,
   "id": "8dfde6c5",
   "metadata": {
    "ExecuteTime": {
     "start_time": "2023-05-01T00:11:09.133927Z",
     "end_time": "2023-05-01T00:11:09.255286Z"
    }
   },
   "outputs": [
    {
     "name": "stdout",
     "output_type": "stream",
     "text": [
      "Значение тестовой статистики и p-value критерия однородности Колмогорова составили, соответственно: 0.032 и 0.0.\n"
     ]
    }
   ],
   "source": [
    "test_value = round(sps.ks_2samp(data1 = popularity_short, data2 = popularity_long)[0], ndigits = 3)\n",
    "p_value = round(sps.ks_2samp(data1 = popularity_short, data2 = popularity_long)[1], ndigits = 3)\n",
    "\n",
    "print(f'Значение тестовой статистики и p-value критерия однородности Колмогорова составили, соответственно: {test_value} и {p_value}.')"
   ]
  },
  {
   "cell_type": "markdown",
   "id": "18d9ce8d",
   "metadata": {},
   "source": [
    "Таким образом, имеем p-value около 0, что меньше 0.05, то есть отвергаем нулевую гипотезу, и можем с максимальной вероятностью ошибки первого рода в 0.05 утверждать, что распределение популярности песни отличается в зависимости от продолжительности."
   ]
  },
  {
   "cell_type": "markdown",
   "id": "9ba55b45",
   "metadata": {},
   "source": [
    "Второй способ тестирования - критерий однородности ***Андерсона-Дарлинга***.<br>\n",
    "<br>\n",
    "Статистика критерия имеет вид (для непрерывных функций распределения $F(x)$ и $G(x)$ в нулевой гипотезе выше):<br>\n",
    "<br>\n",
    "$A_2 = \\dfrac{1}{mn}\\sum_{i=1}^{n+m-1} \\dfrac{(M_i (m+n) - mi)^2}{i(m+n-i)}$,<br>\n",
    "<br>\n",
    "где $M_i$ - число элементов первой выборки, меньших или равных i-му элементу вариационного ряда объединенной выборки.<br>\n",
    "<br>\n",
    "Нулевая гипотеза отвергается на уровне значимости 0.05 при превышении статистикой критерия соответствующего критического значения.<br>\n",
    "<br>\n",
    "Посчитаем, как и ранее, p-value теста."
   ]
  },
  {
   "cell_type": "code",
   "execution_count": 37,
   "id": "b0ce40ed",
   "metadata": {
    "ExecuteTime": {
     "start_time": "2023-05-01T00:11:09.149607Z",
     "end_time": "2023-05-01T00:11:09.268946Z"
    }
   },
   "outputs": [
    {
     "name": "stderr",
     "output_type": "stream",
     "text": [
      "/var/folders/l_/grbqmmln6bq84j3d3dt_jvqc0000gn/T/ipykernel_67496/2408101600.py:1: UserWarning: p-value floored: true value smaller than 0.001\n",
      "  sps.anderson_ksamp(samples = [popularity_short, popularity_long])\n"
     ]
    },
    {
     "data": {
      "text/plain": "Anderson_ksampResult(statistic=7.588853157969736, critical_values=array([0.325, 1.226, 1.961, 2.718, 3.752, 4.592, 6.546]), pvalue=0.001)"
     },
     "execution_count": 37,
     "metadata": {},
     "output_type": "execute_result"
    }
   ],
   "source": [
    "sps.anderson_ksamp(samples = [popularity_short, popularity_long])"
   ]
  },
  {
   "cell_type": "code",
   "execution_count": 38,
   "id": "f63e116b",
   "metadata": {
    "ExecuteTime": {
     "start_time": "2023-05-01T00:11:09.154244Z",
     "end_time": "2023-05-01T00:11:09.269253Z"
    }
   },
   "outputs": [
    {
     "name": "stdout",
     "output_type": "stream",
     "text": [
      "Значение тестовой статистики и p-value критерия однородности Андерсона-Дарлинга составили, соответственно: 7.589 и 0.001\n"
     ]
    },
    {
     "name": "stderr",
     "output_type": "stream",
     "text": [
      "/var/folders/l_/grbqmmln6bq84j3d3dt_jvqc0000gn/T/ipykernel_67496/2070441604.py:1: UserWarning: p-value floored: true value smaller than 0.001\n",
      "  test_value = round(sps.anderson_ksamp(samples = [popularity_short, popularity_long])[0], ndigits = 3)\n",
      "/var/folders/l_/grbqmmln6bq84j3d3dt_jvqc0000gn/T/ipykernel_67496/2070441604.py:2: UserWarning: p-value floored: true value smaller than 0.001\n",
      "  p_value = round(sps.anderson_ksamp(samples = [popularity_short, popularity_long])[2], ndigits = 3)\n"
     ]
    }
   ],
   "source": [
    "test_value = round(sps.anderson_ksamp(samples = [popularity_short, popularity_long])[0], ndigits = 3)\n",
    "p_value = round(sps.anderson_ksamp(samples = [popularity_short, popularity_long])[2], ndigits = 3)\n",
    "\n",
    "print(f'Значение тестовой статистики и p-value критерия однородности Андерсона-Дарлинга составили, соответственно: {test_value} и {p_value}')"
   ]
  },
  {
   "cell_type": "markdown",
   "id": "e3c9421d",
   "metadata": {},
   "source": [
    "Таким образом, значение статистики критерия составило 7.589, что больше, чем критическое значение для 5% уровня значимости, которое равно 1.961 (аналогично, p-value теста составило величину, меньше, чем 0.001 < 0.05), из чего следует отвержение нулевой гипотезы на уровне значимости 0.05, поэтому можем с максимальной вероятностью ошибки первого рода в 0.05 утверждать, что выборки популярности длинных и коротких песен получены из разных генеральных совокупностей, то есть имеют разные распределения."
   ]
  },
  {
   "cell_type": "code",
   "execution_count": 39,
   "id": "cb2bff56",
   "metadata": {
    "ExecuteTime": {
     "start_time": "2023-05-01T00:11:09.161533Z",
     "end_time": "2023-05-01T00:11:09.269480Z"
    }
   },
   "outputs": [
    {
     "data": {
      "text/plain": "(11301, 7534)"
     },
     "execution_count": 39,
     "metadata": {},
     "output_type": "execute_result"
    }
   ],
   "source": [
    "len(popularity_short), len(popularity_long)"
   ]
  },
  {
   "cell_type": "code",
   "execution_count": 40,
   "id": "27dd66a0",
   "metadata": {
    "ExecuteTime": {
     "start_time": "2023-05-01T00:11:09.165390Z",
     "end_time": "2023-05-01T00:11:09.269820Z"
    }
   },
   "outputs": [
    {
     "data": {
      "text/plain": "(53.26245465003097, 52.586010087602865)"
     },
     "execution_count": 40,
     "metadata": {},
     "output_type": "execute_result"
    }
   ],
   "source": [
    "np.mean(popularity_short), np.mean(popularity_long)"
   ]
  },
  {
   "cell_type": "code",
   "execution_count": 41,
   "id": "d7998ec7",
   "metadata": {
    "ExecuteTime": {
     "start_time": "2023-05-01T00:11:09.168279Z",
     "end_time": "2023-05-01T00:11:09.270013Z"
    }
   },
   "outputs": [
    {
     "data": {
      "text/plain": "(483.6359224412007, 473.85210584858413)"
     },
     "execution_count": 41,
     "metadata": {},
     "output_type": "execute_result"
    }
   ],
   "source": [
    "np.var(popularity_short), np.var(popularity_long)"
   ]
  },
  {
   "cell_type": "markdown",
   "id": "b28d15c8",
   "metadata": {},
   "source": [
    "В данном случае заключения двух критериев совпадают, и на уровне значимости 5% можем утверждать, что есть принципиальные отличия в популярности длинных и коротких песен."
   ]
  },
  {
   "cell_type": "markdown",
   "id": "733461d9",
   "metadata": {},
   "source": [
    "### Задание 3"
   ]
  },
  {
   "cell_type": "code",
   "execution_count": 42,
   "id": "716a0da2",
   "metadata": {
    "ExecuteTime": {
     "start_time": "2023-05-01T00:11:09.176218Z",
     "end_time": "2023-05-01T00:11:09.270240Z"
    }
   },
   "outputs": [
    {
     "data": {
      "text/plain": "                    song_name  song_popularity  song_duration_ms   \n0  Boulevard of Broken Dreams               73            262333  \\\n1                  In The End               66            216933   \n2           Seven Nation Army               76            231733   \n3                  By The Way               74            216933   \n4           How You Remind Me               56            223826   \n\n   acousticness  danceability  energy  instrumentalness  key  liveness   \n0      0.005520         0.496   0.682          0.000029    8    0.0589  \\\n1      0.010300         0.542   0.853          0.000000    3    0.1080   \n2      0.008170         0.737   0.463          0.447000    0    0.2550   \n3      0.026400         0.451   0.970          0.003550    0    0.1020   \n4      0.000954         0.447   0.766          0.000000   10    0.1130   \n\n   loudness  audio_mode  speechiness    tempo  time_signature  audio_valence  \n0    -4.095           1       0.0294  167.060               4          0.474  \n1    -6.407           0       0.0498  105.256               4          0.370  \n2    -7.828           1       0.0792  123.881               4          0.324  \n3    -4.938           1       0.1070  122.444               4          0.198  \n4    -5.065           1       0.0313  172.011               4          0.574  ",
      "text/html": "<div>\n<style scoped>\n    .dataframe tbody tr th:only-of-type {\n        vertical-align: middle;\n    }\n\n    .dataframe tbody tr th {\n        vertical-align: top;\n    }\n\n    .dataframe thead th {\n        text-align: right;\n    }\n</style>\n<table border=\"1\" class=\"dataframe\">\n  <thead>\n    <tr style=\"text-align: right;\">\n      <th></th>\n      <th>song_name</th>\n      <th>song_popularity</th>\n      <th>song_duration_ms</th>\n      <th>acousticness</th>\n      <th>danceability</th>\n      <th>energy</th>\n      <th>instrumentalness</th>\n      <th>key</th>\n      <th>liveness</th>\n      <th>loudness</th>\n      <th>audio_mode</th>\n      <th>speechiness</th>\n      <th>tempo</th>\n      <th>time_signature</th>\n      <th>audio_valence</th>\n    </tr>\n  </thead>\n  <tbody>\n    <tr>\n      <th>0</th>\n      <td>Boulevard of Broken Dreams</td>\n      <td>73</td>\n      <td>262333</td>\n      <td>0.005520</td>\n      <td>0.496</td>\n      <td>0.682</td>\n      <td>0.000029</td>\n      <td>8</td>\n      <td>0.0589</td>\n      <td>-4.095</td>\n      <td>1</td>\n      <td>0.0294</td>\n      <td>167.060</td>\n      <td>4</td>\n      <td>0.474</td>\n    </tr>\n    <tr>\n      <th>1</th>\n      <td>In The End</td>\n      <td>66</td>\n      <td>216933</td>\n      <td>0.010300</td>\n      <td>0.542</td>\n      <td>0.853</td>\n      <td>0.000000</td>\n      <td>3</td>\n      <td>0.1080</td>\n      <td>-6.407</td>\n      <td>0</td>\n      <td>0.0498</td>\n      <td>105.256</td>\n      <td>4</td>\n      <td>0.370</td>\n    </tr>\n    <tr>\n      <th>2</th>\n      <td>Seven Nation Army</td>\n      <td>76</td>\n      <td>231733</td>\n      <td>0.008170</td>\n      <td>0.737</td>\n      <td>0.463</td>\n      <td>0.447000</td>\n      <td>0</td>\n      <td>0.2550</td>\n      <td>-7.828</td>\n      <td>1</td>\n      <td>0.0792</td>\n      <td>123.881</td>\n      <td>4</td>\n      <td>0.324</td>\n    </tr>\n    <tr>\n      <th>3</th>\n      <td>By The Way</td>\n      <td>74</td>\n      <td>216933</td>\n      <td>0.026400</td>\n      <td>0.451</td>\n      <td>0.970</td>\n      <td>0.003550</td>\n      <td>0</td>\n      <td>0.1020</td>\n      <td>-4.938</td>\n      <td>1</td>\n      <td>0.1070</td>\n      <td>122.444</td>\n      <td>4</td>\n      <td>0.198</td>\n    </tr>\n    <tr>\n      <th>4</th>\n      <td>How You Remind Me</td>\n      <td>56</td>\n      <td>223826</td>\n      <td>0.000954</td>\n      <td>0.447</td>\n      <td>0.766</td>\n      <td>0.000000</td>\n      <td>10</td>\n      <td>0.1130</td>\n      <td>-5.065</td>\n      <td>1</td>\n      <td>0.0313</td>\n      <td>172.011</td>\n      <td>4</td>\n      <td>0.574</td>\n    </tr>\n  </tbody>\n</table>\n</div>"
     },
     "execution_count": 42,
     "metadata": {},
     "output_type": "execute_result"
    }
   ],
   "source": [
    "data.head()"
   ]
  },
  {
   "cell_type": "markdown",
   "id": "3f13729a",
   "metadata": {},
   "source": [
    "\n"
   ]
  },
  {
   "cell_type": "markdown",
   "id": "35692559",
   "metadata": {},
   "source": [
    "Рассмотрим две случайные величины: $Z$ - популярность песни, и $D$ - ее продолжительность. Зависимость популярности песни от продолжительности по определению означает, что при изменении значения $D$ меняется распределение $Z$, то есть условная функция распределения $F(Z | D)$ зависит от значений $D$. Введем теперь случайную величину $D_{\\text{binar}} = 1, \\ \\text{при} \\ D > 221512, \\ \\text{и} \\ D_{\\text{binar}} = 0 \\ \\text{иначе}$. Очевидно, это измеримая функция от случайной величины $D$. Заметим теперь, что в задаче 2 мы протестировали фактически зависимость случайных величин $Z$ и $D_{\\text{binar}}$, так как проверка отличия распределения $Z$ в зависимости от того, длинная песня ($D_{\\text{binar}} = 1$) или короткая ($D_{\\text{binar}} = 0$), эквивалентна фактически проверке утверждения, что распределение $Z$ зависит от значений $D_{\\text{binar}}$. Мы получили отвержение нулевой гипотезы во 2 задаче, и заключили, что распределение $Z$ принципиально отличается в случаях $D_{\\text{binar}} = 1$ и $D_{\\text{binar}} = 0$. Другими словами, случайные величины $Z$ и $D_{\\text{binar}}$ зависимы по определению. Так как $D_{\\text{binar}}$ - это функция от величины $D$, то при изменении значений $D$ меняются значения и $D_{\\text{binar}}$, а значит меняется и распределение $Z$, то есть величины $Z$ и $D$ тоже зависимы (по вероятностному определению) - если песня \"короткая\", то популярность будет иметь другое распределение, чем если бы песня была \"длинной\". Формально, тестирование зависимости здесь эквивалентно тестированию утверждений в задаче 2, то есть гипотеза о независимости эквивалентна конкретной гипотезе об однородности (хотя стоит отметить, что если бы мы не отвергли гипотезу об однородности в задаче 2, это еще не означало бы независимость. Но если мы хотя бы для одного порога отвергаем гипотезу об однородности, то это уже означает наличие зависимости величин $Z$ и $D$ по определению)."
   ]
  }
 ],
 "metadata": {
  "kernelspec": {
   "display_name": "Python 3 (ipykernel)",
   "language": "python",
   "name": "python3"
  },
  "language_info": {
   "codemirror_mode": {
    "name": "ipython",
    "version": 3
   },
   "file_extension": ".py",
   "mimetype": "text/x-python",
   "name": "python",
   "nbconvert_exporter": "python",
   "pygments_lexer": "ipython3",
   "version": "3.9.12"
  }
 },
 "nbformat": 4,
 "nbformat_minor": 5
}
