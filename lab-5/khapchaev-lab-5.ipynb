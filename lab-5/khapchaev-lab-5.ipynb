{
 "cells": [
  {
   "cell_type": "markdown",
   "source": [
    "# Лабораторная работа № 5\n",
    "## Хапчаев Тимур Русланович M32071\n",
    "### Вариант 4"
   ],
   "metadata": {
    "collapsed": false
   }
  },
  {
   "cell_type": "code",
   "execution_count": 70,
   "outputs": [],
   "source": [
    "import pandas as pd\n",
    "import numpy as np\n",
    "from scipy.stats import t, chi2, f"
   ],
   "metadata": {
    "collapsed": false,
    "ExecuteTime": {
     "start_time": "2023-05-28T16:37:07.984533Z",
     "end_time": "2023-05-28T16:37:08.056448Z"
    }
   }
  },
  {
   "cell_type": "code",
   "execution_count": 71,
   "id": "a9fd1296",
   "metadata": {
    "ExecuteTime": {
     "start_time": "2023-05-28T16:37:07.984630Z",
     "end_time": "2023-05-28T16:37:08.088979Z"
    }
   },
   "outputs": [],
   "source": [
    "data = pd.read_csv(\"/Users/tkhapchaev/Documents/GitHub/mathematical-statistics/lab-5/song_data.csv\")"
   ]
  },
  {
   "cell_type": "markdown",
   "id": "3ef24fef",
   "metadata": {},
   "source": [
    "Пусть $X$ - матрица данных с $n$ строками и $k$ столбцами, где $k$ - общее количество регрессоров, $n$ - объем выборок, в которой i-я строка представляет собой ряд i-х наблюдений для каждого из регрессоров (здесь $k = 4$). Столбец данной матрицы с номером j представлет собой набор $n$ наблюдений для j-го по порядку регрессора.\n",
    "<br>\n",
    "<br>\n",
    "Линейная модель имеет вид:<br>\n",
    "<br>\n",
    "$y = X\\beta + \\epsilon$\n",
    "<br>\n",
    "Здесь $y$ - зависимая переменная, $\\beta$ - вектор истинных коэффициентов модели, $\\epsilon$ - случайная ошибка модели.\n",
    "<br>\n",
    "Вектор МНК-оценок коэффициентов имеет вид: $b = (X^TX)^{-1} X^Ty$\n",
    "Ковариационная матрица оценок коэффициентов: $\\text{Var}(b) = \\sigma^2 (X^TX)^{-1}$\n",
    "Её состоятельная оценка: $\\hat{\\text{Var}(b)} = s^2(X^TX)^{-1}$, где $s^2 = \\dfrac{\\text{SSR}}{n-k}$, $\\text{SSR}$ - сумма квадратов остатков регрессии, $\\sigma^2$ - теоретическая дисперсия случайной ошибки модели."
   ]
  },
  {
   "cell_type": "code",
   "execution_count": 72,
   "id": "778e1359",
   "metadata": {
    "ExecuteTime": {
     "start_time": "2023-05-28T16:37:07.987903Z",
     "end_time": "2023-05-28T16:37:08.089724Z"
    }
   },
   "outputs": [],
   "source": [
    "n = data.shape[0]\n",
    "C = np.ones(n).reshape((n, 1))\n",
    "\n",
    "duration = np.array(data[\"song_duration_ms\"]).reshape((n, 1))\n",
    "danceability = np.array(data[\"danceability\"]).reshape((n, 1))\n",
    "energy = np.array(data[\"energy\"]).reshape((n, 1))\n",
    "y =  np.array(data[\"song_popularity\"]).reshape((n, 1))\n",
    "\n",
    "X = np.hstack((C, duration, danceability, energy))"
   ]
  },
  {
   "cell_type": "markdown",
   "source": [
    "Вектор МНК-оценок коэффициентов:"
   ],
   "metadata": {
    "collapsed": false
   }
  },
  {
   "cell_type": "code",
   "execution_count": 73,
   "id": "c49f15d3",
   "metadata": {
    "ExecuteTime": {
     "start_time": "2023-05-28T16:37:07.991250Z",
     "end_time": "2023-05-28T16:37:08.125496Z"
    }
   },
   "outputs": [],
   "source": [
    "b = np.linalg.inv((X.T @ X)) @ X.T @ y"
   ]
  },
  {
   "cell_type": "markdown",
   "source": [
    "Сумма квадратов остатков регрессии:"
   ],
   "metadata": {
    "collapsed": false
   }
  },
  {
   "cell_type": "code",
   "execution_count": 74,
   "id": "be45a6fd",
   "metadata": {
    "ExecuteTime": {
     "start_time": "2023-05-28T16:37:07.994473Z",
     "end_time": "2023-05-28T16:37:08.133445Z"
    }
   },
   "outputs": [],
   "source": [
    "y_pred = X @ b\n",
    "SSR = np.sum((y - y_pred)**2)"
   ]
  },
  {
   "cell_type": "markdown",
   "source": [
    "Ковариационная матрица вектора МНК-оценок:"
   ],
   "metadata": {
    "collapsed": false
   }
  },
  {
   "cell_type": "code",
   "execution_count": 75,
   "id": "0d1afa30",
   "metadata": {
    "ExecuteTime": {
     "start_time": "2023-05-28T16:37:07.997154Z",
     "end_time": "2023-05-28T16:37:08.133750Z"
    }
   },
   "outputs": [],
   "source": [
    "var_b = (SSR / (n - 4)) * np.linalg.inv((X.T @ X))"
   ]
  },
  {
   "cell_type": "markdown",
   "id": "5544c8fc",
   "metadata": {},
   "source": [
    "Оцениваемая модель: <br>\n",
    "<br>\n",
    "$\\text{popularity} = 44.61 - 0.000003\\cdot \\text{duration} + 14.478\\cdot \\text{danceability} - 0.257 \\cdot \\text{energy}$<br>\n",
    "<br>\n",
    "Оценка остаточной дисперсии: $s^2 = \\dfrac{\\text{SSR}}{n-k} \\approx 474.681$"
   ]
  },
  {
   "cell_type": "markdown",
   "id": "214dde8c",
   "metadata": {},
   "source": [
    "Построим доверительные интервалы:\n",
    "<br>\n",
    "Доверительный интервал для коэффициентов модели с вероятностью накрытия истинного значения параметра в $1 - \\alpha$:<br>\n",
    "<br>\n",
    "$(b_i - q\\cdot\\sqrt{\\text{Var}(b)_i}; \\ b_i + q\\cdot\\sqrt{\\text{Var}(b)_i})$, где $q$ - квантиль распределения Стьюдента с $n - k$ степенями свободы уровня $1 - \\alpha/2$,\n",
    " $b_i$ - оценка i-го коэффициента модели,\n",
    " $\\text{Var}(b)_i$ - соответствующая оценка дисперсии оценки i-го коэффициента модели.<br>\n",
    "<br>\n",
    "Доверительный интервал для дисперсии случайной ошибки с вероятностью накрытия истинного значения параметра в $1 - \\alpha$:<br>\n",
    "<br>\n",
    "$(\\dfrac{\\text{SSR}}{q_{\\chi, 1 - \\alpha/2}}; \\ \\dfrac{\\text{SSR}}{q_{\\chi, \\alpha/2}})$, где $q_{\\chi, \\beta}$ - квантиль хи-квадрат распределения с $n-k$ степенями свободы уровня $\\beta$."
   ]
  },
  {
   "cell_type": "markdown",
   "source": [
    "Стандартные ошибки оценок коэффициентов:"
   ],
   "metadata": {
    "collapsed": false
   }
  },
  {
   "cell_type": "code",
   "execution_count": 76,
   "id": "5f563d99",
   "metadata": {
    "ExecuteTime": {
     "start_time": "2023-05-28T16:37:08.004214Z",
     "end_time": "2023-05-28T16:37:08.140985Z"
    }
   },
   "outputs": [],
   "source": [
    "se_const, se_x1, se_x2, se_x3 = np.sqrt(var_b.diagonal()[0]), np.sqrt(var_b.diagonal()[1]), np.sqrt(var_b.diagonal()[2]), np.sqrt(var_b.diagonal()[3])\n",
    "\n",
    "b = b[0][0], b[1][0], b[2][0], b[3][0]"
   ]
  },
  {
   "cell_type": "markdown",
   "source": [
    "Доверительные интервалы для коэффициентов модели:"
   ],
   "metadata": {
    "collapsed": false
   }
  },
  {
   "cell_type": "code",
   "execution_count": 77,
   "outputs": [],
   "source": [
    "alpha = 0.05 # 95 %\n",
    "\n",
    "const_1 = b[0] - t.ppf(1 - alpha / 2, df = n - 4) * se_const\n",
    "const_2 = b[0] + t.ppf(1 - alpha / 2, df = n - 4) * se_const\n",
    "\n",
    "duration_1 = b[1] - t.ppf(1 - alpha / 2, df = n - 4) * se_x1\n",
    "duration_2 = b[1] + t.ppf(1 - alpha / 2, df = n - 4) * se_x1\n",
    "\n",
    "danceability_1 = b[2] - t.ppf(1 - alpha / 2, df = n - 4) * se_x2\n",
    "danceability_2 = b[2] + t.ppf(1 - alpha / 2, df = n - 4) * se_x2\n",
    "\n",
    "energy_1 = b[3] - t.ppf(1 - alpha / 2, df = n - 4) * se_x3\n",
    "energy_2 = b[3] + t.ppf(1 - alpha / 2, df = n - 4) * se_x3\n",
    "\n",
    "print(f'Доверительный интервал для константы: ({const_1}; {const_2})')\n",
    "print(f'Доверительный интервал для коэффициента перед song_duration_ms: ({duration_1}; {duration_2})')\n",
    "print(f'Доверительный интервал для коэффициента перед danceability: ({danceability_1}; {danceability_2})')\n",
    "print(f'Доверительный интервал для коэффициента перед energy: ({energy_1}; {energy_2})')"
   ],
   "metadata": {
    "collapsed": false,
    "ExecuteTime": {
     "start_time": "2023-05-28T16:37:08.007033Z",
     "end_time": "2023-05-28T16:37:08.149524Z"
    }
   }
  },
  {
   "cell_type": "markdown",
   "source": [
    "Доверительный интервал для дисперсии случайной ошибки:"
   ],
   "metadata": {
    "collapsed": false
   }
  },
  {
   "cell_type": "code",
   "execution_count": 78,
   "outputs": [],
   "source": [
    "pe_1 = SSR / chi2.ppf(1 - alpha / 2, df = n - 4)\n",
    "pe_2 = SSR / chi2.ppf(alpha / 2, df = n - 4)\n",
    "\n",
    "print(f'Доверительный интервал для дисперсии случайной ошибки: ({pe_1}; {pe_2})')"
   ],
   "metadata": {
    "collapsed": false,
    "ExecuteTime": {
     "start_time": "2023-05-28T16:37:08.009615Z",
     "end_time": "2023-05-28T16:37:08.166797Z"
    }
   }
  },
  {
   "cell_type": "markdown",
   "id": "ba045ae4",
   "metadata": {},
   "source": [
    "Имеем 95% доверительные интервалы:<br>\n",
    "<br>\n",
    "Для константы: (42.64; 46.579)<br>\n",
    "Для коэффициента перед song_duration_ms: (-0.0000081; 0.00000239)<br>\n",
    "Для коэффициента перед danceability: (12.479; 16.478)<br>\n",
    "Для коэффициента перед energy: (-1.719;  1.205)<br>\n",
    "Для дисперсии случайной ошибки: (465.236; 484.416)<br>"
   ]
  },
  {
   "cell_type": "markdown",
   "id": "16fc921f",
   "metadata": {},
   "source": [
    "Коэффициент детерминации:"
   ]
  },
  {
   "cell_type": "markdown",
   "source": [
    "$R^2 = 1 - \\dfrac{\\text{SSR}}{\\text{TSS}}$, где $\\text{TSS} = \\sum_{i=1}^{n} (y_i - \\overline{y})^2$, и $\\overline{y} = \\dfrac{1}{n} \\sum_{i=1}^{n} y_i$"
   ],
   "metadata": {
    "collapsed": false
   }
  },
  {
   "cell_type": "code",
   "execution_count": 79,
   "id": "97980d92",
   "metadata": {
    "ExecuteTime": {
     "start_time": "2023-05-28T16:37:08.016127Z",
     "end_time": "2023-05-28T16:37:08.169385Z"
    }
   },
   "outputs": [],
   "source": [
    "TSS = np.sum((y-np.mean(y))**2)\n",
    "R2 = 1 - SSR/TSS"
   ]
  },
  {
   "cell_type": "code",
   "execution_count": 80,
   "outputs": [],
   "source": [
    "R2_rounded = round(R2, 3)\n",
    "print(R2_rounded)"
   ],
   "metadata": {
    "collapsed": false,
    "ExecuteTime": {
     "start_time": "2023-05-28T16:37:08.016208Z",
     "end_time": "2023-05-28T16:37:08.177941Z"
    }
   }
  },
  {
   "cell_type": "markdown",
   "id": "591b0fdf",
   "metadata": {},
   "source": [
    "Гипотезы из условия:<br>\n",
    "Чем больше энергичность, тем больше популярность\n",
    "$H_0: \\beta_3 \\leq 0$, $H_1: \\beta_3 > 0$, $\\beta_3$ (коэффициент при energy в модели)<br>\n",
    "<br>\n",
    "Популярность зависит от продолжительности\n",
    "$H_0: \\beta_1 = 0$, $H_1: \\beta_1 \\neq 0$, $\\beta_1$ (коэффициент при song_duration_ms в модели)<br>\n",
    "<br>\n",
    "Популярность зависит от энергичности и танцевальности\n",
    "$H_0: \\beta_2 = \\beta_3 = 0$, $H_1: \\text{хотя бы один из коэффициентов}\\ \\beta_2, \\beta_3\\ \\text{отличен от}\\ 0$, $\\beta_2, \\beta_3$ - коэффициенты при danceability и energy соответственно"
   ]
  },
  {
   "cell_type": "markdown",
   "id": "9286cb9e",
   "metadata": {},
   "source": [
    "Первые две гипотезы на уровне значимости $\\alpha$ проверим с помощью t-статистики:<br>\n",
    "$t = \\dfrac{b_i}{\\sqrt{\\text{Var}(b)_i}}$, где в первом случае нулевая гипотеза отвергается, если значение статистики превышает квантиль уровня $1 - \\alpha$ распределения Стьюдента с $n-k$ степенями свободы, во втором случае - если значение статистики по модулю превышает квантиль уровня $1 - \\alpha/2$ распределения Стьюдента с $n-k$ степенями свободы.<br>\n",
    "<br>\n",
    "Третью гипотезу проверим с помощью F-статистики:<br>\n",
    "$F = \\dfrac{(R^2_u - R^2_r)/m}{(1 - R^2_u)/(n-k)}$, где $R^2_u, R^2_r$ - коэффициенты детерминации соответственно в модели без ограничений и модели с ограничениями, $m$ - количество ограничений (здесь $m = 2$).<br>\n",
    "Нулевая гипотеза отвергается на уровне значимости $\\alpha$, если значение статистики превышает квантиль уровня $1-\\alpha$ распределения Фишера со степенями свободы $m$ и $n-k$"
   ]
  },
  {
   "cell_type": "code",
   "execution_count": 81,
   "id": "c9d6fa93",
   "metadata": {
    "ExecuteTime": {
     "start_time": "2023-05-28T16:37:08.020837Z",
     "end_time": "2023-05-28T16:37:08.184834Z"
    }
   },
   "outputs": [],
   "source": [
    "t_energy = b[3] / se_x3\n",
    "t_duration = b[1] / se_x1"
   ]
  },
  {
   "cell_type": "code",
   "execution_count": 82,
   "id": "be9fbe6a",
   "metadata": {
    "ExecuteTime": {
     "start_time": "2023-05-28T16:37:08.020924Z",
     "end_time": "2023-05-28T16:37:08.199813Z"
    }
   },
   "outputs": [],
   "source": [
    "t_energy > t.ppf(0.95, df = n - 4)"
   ]
  },
  {
   "cell_type": "markdown",
   "id": "b262eb91",
   "metadata": {},
   "source": [
    "Таким образом, гипотеза о том, что $\\beta_3 \\leq 0$ не отвергается на уровне значимости 0.05, то есть нельзя утверждать, что чем больше энергичность песни, тем больше её популярность (с максимальной вероятностью ошибки первого рода в 0.05)"
   ]
  },
  {
   "cell_type": "code",
   "execution_count": 83,
   "id": "c8acf12e",
   "metadata": {
    "ExecuteTime": {
     "start_time": "2023-05-28T16:37:08.023253Z",
     "end_time": "2023-05-28T16:37:08.200060Z"
    }
   },
   "outputs": [],
   "source": [
    "abs(t_duration) > t.ppf(0.975, df = n-4)"
   ]
  },
  {
   "cell_type": "markdown",
   "id": "6f196457",
   "metadata": {},
   "source": [
    "Таким образом, гипотеза о том, что $\\beta_1 = 0$ не отвергается на уровне значимости 0.05, то есть можно утверждать, что популярность песни не зависит от продолжительности (с максимальной вероятностью ошибки первого рода в 0.05)"
   ]
  },
  {
   "cell_type": "markdown",
   "id": "c5cd571b",
   "metadata": {},
   "source": [
    "Посчитаем $R^2_r$, для этого посчитаем коэффициент детерминации в модели с ограничениями (в модели, где в качестве независимых переменных выступают константа и продолжительность песни):"
   ]
  },
  {
   "cell_type": "code",
   "execution_count": 84,
   "id": "cda4a73a",
   "metadata": {
    "ExecuteTime": {
     "start_time": "2023-05-28T16:37:08.027348Z",
     "end_time": "2023-05-28T16:37:08.209260Z"
    }
   },
   "outputs": [],
   "source": [
    "X_restricted = np.hstack((C, duration))\n",
    "\n",
    "b_restricted = np.linalg.inv(X_restricted.T @ X_restricted) @ X_restricted.T @ y\n",
    "y_restricted = X_restricted @ b_restricted\n",
    "\n",
    "SSR_restricted = np.sum((y - y_restricted)**2)\n",
    "R2_restricted = 1 - SSR_restricted/TSS"
   ]
  },
  {
   "cell_type": "code",
   "execution_count": 85,
   "id": "9fabb351",
   "metadata": {
    "ExecuteTime": {
     "start_time": "2023-05-28T16:37:08.027393Z",
     "end_time": "2023-05-28T16:37:08.215107Z"
    }
   },
   "outputs": [],
   "source": [
    "F = ((R2 - R2_restricted) / 2) / ((1 - R2) / (n - 4))"
   ]
  },
  {
   "cell_type": "code",
   "execution_count": 86,
   "outputs": [],
   "source": [
    "F > f.ppf(0.95, dfn = 2, dfd = n - 4)"
   ],
   "metadata": {
    "collapsed": false,
    "ExecuteTime": {
     "start_time": "2023-05-28T16:37:08.027423Z",
     "end_time": "2023-05-28T16:37:08.233778Z"
    }
   }
  },
  {
   "cell_type": "markdown",
   "id": "b2ab77e3",
   "metadata": {},
   "source": [
    "Таким образом, гипотеза о том, что популярность песни не зависит от энергичности и танцевальности отвергается на уровне значимости 0.05, то есть можно утверждать, что популярность песни зависит одновременно от энергичности и танцевальности (с максимальной вероятностью ошибки первого рода в 0.05)"
   ]
  }
 ],
 "metadata": {
  "kernelspec": {
   "display_name": "Python 3 (ipykernel)",
   "language": "python",
   "name": "python3"
  },
  "language_info": {
   "codemirror_mode": {
    "name": "ipython",
    "version": 3
   },
   "file_extension": ".py",
   "mimetype": "text/x-python",
   "name": "python",
   "nbconvert_exporter": "python",
   "pygments_lexer": "ipython3",
   "version": "3.9.12"
  }
 },
 "nbformat": 4,
 "nbformat_minor": 5
}
