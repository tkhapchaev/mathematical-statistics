{
 "cells": [
  {
   "cell_type": "markdown",
   "source": [
    "# Лабораторная работа № 5\n",
    "## Хапчаев Тимур Русланович M32071\n",
    "### Вариант 4"
   ],
   "metadata": {
    "collapsed": false
   }
  },
  {
   "cell_type": "code",
   "execution_count": 107,
   "outputs": [],
   "source": [
    "import pandas as pd\n",
    "import numpy as np\n",
    "from scipy.stats import t, chi2, f"
   ],
   "metadata": {
    "collapsed": false,
    "ExecuteTime": {
     "start_time": "2023-05-28T23:49:45.130354Z",
     "end_time": "2023-05-28T23:49:45.212255Z"
    }
   }
  },
  {
   "cell_type": "code",
   "execution_count": 108,
   "id": "a9fd1296",
   "metadata": {
    "ExecuteTime": {
     "start_time": "2023-05-28T23:49:45.133167Z",
     "end_time": "2023-05-28T23:49:45.333940Z"
    }
   },
   "outputs": [],
   "source": [
    "data = pd.read_csv(\"/Users/tkhapchaev/Documents/GitHub/mathematical-statistics/lab-5/song_data.csv\")"
   ]
  },
  {
   "cell_type": "markdown",
   "id": "3ef24fef",
   "metadata": {},
   "source": [
    "Пусть $X$ - матрица данных с $n$ строками и $k$ столбцами, где $k$ - общее количество регрессоров, $n$ - объём выборок, в которой i-я строка - это ряд i-х наблюдений для каждого из регрессоров (здесь $k = 4$). Столбец данной матрицы с номером j - это набор $n$ наблюдений для j-го по порядку регрессора.\n",
    "<br>\n",
    "<br>\n",
    "Линейная модель имеет вид:<br>\n",
    "<br>\n",
    "$y = X\\beta + \\epsilon$\n",
    "<br>\n",
    "Здесь $y$ - зависимая переменная, $\\beta$ - вектор истинных коэффициентов модели, $\\epsilon$ - случайная ошибка модели.\n",
    "<br>\n",
    "Вектор МНК-оценок коэффициентов: $b = (X^TX)^{-1} X^Ty$\n",
    "Ковариационная матрица оценок коэффициентов: $\\text{Var}(b) = \\sigma^2 (X^TX)^{-1}$\n",
    "Состоятельная оценка ковариационной матрицы оценок коэффициентов: $\\hat{\\text{Var}(b)} = s^2(X^TX)^{-1}$, где $s^2 = \\dfrac{\\text{SSR}}{n-k}$, $\\text{SSR}$ - сумма квадратов остатков регрессии, $\\sigma^2$ - теоретическая дисперсия случайной ошибки модели."
   ]
  },
  {
   "cell_type": "code",
   "execution_count": 109,
   "id": "778e1359",
   "metadata": {
    "ExecuteTime": {
     "start_time": "2023-05-28T23:49:45.165642Z",
     "end_time": "2023-05-28T23:49:45.334587Z"
    }
   },
   "outputs": [],
   "source": [
    "n = data.shape[0]\n",
    "C = np.ones(n).reshape((n, 1))\n",
    "\n",
    "duration = np.array(data[\"song_duration_ms\"]).reshape((n, 1))\n",
    "danceability = np.array(data[\"danceability\"]).reshape((n, 1))\n",
    "energy = np.array(data[\"energy\"]).reshape((n, 1))\n",
    "y =  np.array(data[\"song_popularity\"]).reshape((n, 1))\n",
    "\n",
    "X = np.hstack((C, duration, danceability, energy))"
   ]
  },
  {
   "cell_type": "markdown",
   "source": [
    "Вектор МНК-оценок коэффициентов:"
   ],
   "metadata": {
    "collapsed": false
   }
  },
  {
   "cell_type": "code",
   "execution_count": 110,
   "id": "c49f15d3",
   "metadata": {
    "ExecuteTime": {
     "start_time": "2023-05-28T23:49:45.169137Z",
     "end_time": "2023-05-28T23:49:45.357985Z"
    }
   },
   "outputs": [],
   "source": [
    "b = np.linalg.inv((X.T @ X)) @ X.T @ y"
   ]
  },
  {
   "cell_type": "code",
   "execution_count": 111,
   "outputs": [
    {
     "name": "stdout",
     "output_type": "stream",
     "text": [
      "[[ 4.46096612e+01]\n",
      " [-2.85020215e-06]\n",
      " [ 1.44781992e+01]\n",
      " [-2.56710284e-01]]\n"
     ]
    }
   ],
   "source": [
    "print(b)"
   ],
   "metadata": {
    "collapsed": false,
    "ExecuteTime": {
     "start_time": "2023-05-28T23:49:45.276285Z",
     "end_time": "2023-05-28T23:49:45.365105Z"
    }
   }
  },
  {
   "cell_type": "markdown",
   "source": [
    "Сумма квадратов остатков регрессии:"
   ],
   "metadata": {
    "collapsed": false
   }
  },
  {
   "cell_type": "code",
   "execution_count": 112,
   "id": "be45a6fd",
   "metadata": {
    "ExecuteTime": {
     "start_time": "2023-05-28T23:49:45.283977Z",
     "end_time": "2023-05-28T23:49:45.365318Z"
    }
   },
   "outputs": [],
   "source": [
    "y_pred = X @ b\n",
    "SSR = np.sum((y - y_pred)**2)"
   ]
  },
  {
   "cell_type": "code",
   "execution_count": 113,
   "outputs": [
    {
     "name": "stdout",
     "output_type": "stream",
     "text": [
      "8938708.59347668\n"
     ]
    }
   ],
   "source": [
    "print(SSR)"
   ],
   "metadata": {
    "collapsed": false,
    "ExecuteTime": {
     "start_time": "2023-05-28T23:49:45.291408Z",
     "end_time": "2023-05-28T23:49:45.365414Z"
    }
   }
  },
  {
   "cell_type": "markdown",
   "source": [
    "Ковариационная матрица вектора МНК-оценок:"
   ],
   "metadata": {
    "collapsed": false
   }
  },
  {
   "cell_type": "code",
   "execution_count": 114,
   "id": "0d1afa30",
   "metadata": {
    "ExecuteTime": {
     "start_time": "2023-05-28T23:49:45.314125Z",
     "end_time": "2023-05-28T23:49:45.365480Z"
    }
   },
   "outputs": [],
   "source": [
    "var_b = (SSR / (n - 4)) * np.linalg.inv((X.T @ X))"
   ]
  },
  {
   "cell_type": "code",
   "execution_count": 115,
   "outputs": [
    {
     "name": "stdout",
     "output_type": "stream",
     "text": [
      "[[ 1.00944158e+00 -1.62910281e-06 -6.97678360e-01 -2.89734413e-01]\n",
      " [-1.62910281e-06  7.17445486e-12  2.99686000e-07 -1.95741000e-07]\n",
      " [-6.97678360e-01  2.99686000e-07  1.04065519e+00 -4.15717359e-02]\n",
      " [-2.89734413e-01 -1.95741000e-07 -4.15717359e-02  5.56247539e-01]]\n"
     ]
    }
   ],
   "source": [
    "print(var_b)"
   ],
   "metadata": {
    "collapsed": false,
    "ExecuteTime": {
     "start_time": "2023-05-28T23:49:45.325270Z",
     "end_time": "2023-05-28T23:49:45.366006Z"
    }
   }
  },
  {
   "cell_type": "markdown",
   "id": "5544c8fc",
   "metadata": {},
   "source": [
    "Оцениваемая модель: <br>\n",
    "<br>\n",
    "$44.61 - 0.000003\\cdot \\text{duration} + 14.478\\cdot \\text{danceability} - 0.257 \\cdot \\text{energy} = \\text{popularity}$<br>\n",
    "<br>\n",
    "Оценка остаточной дисперсии: $s^2 = \\dfrac{\\text{SSR}}{n-k} \\approx 474.681$"
   ]
  },
  {
   "cell_type": "markdown",
   "id": "214dde8c",
   "metadata": {},
   "source": [
    "Построим доверительные интервалы:\n",
    "<br>\n",
    "Доверительный интервал для коэффициентов модели с вероятностью накрытия истинного значения параметра в $1 - \\alpha$:<br>\n",
    "<br>\n",
    "$(b_i - q\\cdot\\sqrt{\\text{Var}(b)_i}; \\ b_i + q\\cdot\\sqrt{\\text{Var}(b)_i})$, где\n",
    "$q$ - квантиль распределения Стьюдента с $n - k$ степенями свободы уровня $1 - \\alpha/2$,\n",
    " $b_i$ - оценка i-го коэффициента модели,\n",
    " $\\text{Var}(b)_i$ - соответствующая оценка дисперсии оценки i-го коэффициента модели.<br>\n",
    "<br>\n",
    "Доверительный интервал для дисперсии случайной ошибки с вероятностью накрытия истинного значения параметра в $1 - \\alpha$:<br>\n",
    "<br>\n",
    "$(\\dfrac{\\text{SSR}}{q_{\\chi, 1 - \\alpha/2}}; \\ \\dfrac{\\text{SSR}}{q_{\\chi, \\alpha/2}})$, где $q_{\\chi, \\beta}$ - квантиль хи-квадрат распределения с $n-k$ степенями свободы уровня $\\beta$."
   ]
  },
  {
   "cell_type": "markdown",
   "source": [
    "Стандартные ошибки оценок коэффициентов:"
   ],
   "metadata": {
    "collapsed": false
   }
  },
  {
   "cell_type": "code",
   "execution_count": 116,
   "id": "5f563d99",
   "metadata": {
    "ExecuteTime": {
     "start_time": "2023-05-28T23:49:45.335323Z",
     "end_time": "2023-05-28T23:49:45.366081Z"
    }
   },
   "outputs": [],
   "source": [
    "se_const, se_x1, se_x2, se_x3 = np.sqrt(var_b.diagonal()[0]), np.sqrt(var_b.diagonal()[1]), np.sqrt(var_b.diagonal()[2]), np.sqrt(var_b.diagonal()[3])\n",
    "\n",
    "b = b[0][0], b[1][0], b[2][0], b[3][0]"
   ]
  },
  {
   "cell_type": "code",
   "execution_count": 117,
   "outputs": [
    {
     "name": "stdout",
     "output_type": "stream",
     "text": [
      "(44.60966123437576, -2.8502021544990475e-06, 14.478199189010397, -0.2567102836260077)\n"
     ]
    }
   ],
   "source": [
    "print(b)"
   ],
   "metadata": {
    "collapsed": false,
    "ExecuteTime": {
     "start_time": "2023-05-28T23:49:45.342566Z",
     "end_time": "2023-05-28T23:49:45.366162Z"
    }
   }
  },
  {
   "cell_type": "markdown",
   "source": [
    "Доверительные интервалы для коэффициентов модели:"
   ],
   "metadata": {
    "collapsed": false
   }
  },
  {
   "cell_type": "code",
   "execution_count": 118,
   "outputs": [
    {
     "name": "stdout",
     "output_type": "stream",
     "text": [
      "Доверительный интервал для константы: (42.6403398347664; 46.57898263398511)\n",
      "Доверительный интервал для коэффициента перед song_duration_ms: (-8.100337021070794e-06; 2.3999327120726997e-06)\n",
      "Доверительный интервал для коэффициента перед danceability: (12.478662245548202; 16.477736132472593)\n",
      "Доверительный интервал для коэффициента перед energy: (-1.7185846717511697; 1.2051641044991541)\n"
     ]
    }
   ],
   "source": [
    "alpha = 0.05\n",
    "\n",
    "const_1 = b[0] - t.ppf(1 - alpha / 2, df = n - 4) * se_const\n",
    "const_2 = b[0] + t.ppf(1 - alpha / 2, df = n - 4) * se_const\n",
    "\n",
    "duration_1 = b[1] - t.ppf(1 - alpha / 2, df = n - 4) * se_x1\n",
    "duration_2 = b[1] + t.ppf(1 - alpha / 2, df = n - 4) * se_x1\n",
    "\n",
    "danceability_1 = b[2] - t.ppf(1 - alpha / 2, df = n - 4) * se_x2\n",
    "danceability_2 = b[2] + t.ppf(1 - alpha / 2, df = n - 4) * se_x2\n",
    "\n",
    "energy_1 = b[3] - t.ppf(1 - alpha / 2, df = n - 4) * se_x3\n",
    "energy_2 = b[3] + t.ppf(1 - alpha / 2, df = n - 4) * se_x3\n",
    "\n",
    "print(f'Доверительный интервал для константы: ({const_1}; {const_2})')\n",
    "print(f'Доверительный интервал для коэффициента перед song_duration_ms: ({duration_1}; {duration_2})')\n",
    "print(f'Доверительный интервал для коэффициента перед danceability: ({danceability_1}; {danceability_2})')\n",
    "print(f'Доверительный интервал для коэффициента перед energy: ({energy_1}; {energy_2})')"
   ],
   "metadata": {
    "collapsed": false,
    "ExecuteTime": {
     "start_time": "2023-05-28T23:49:45.355486Z",
     "end_time": "2023-05-28T23:49:45.429461Z"
    }
   }
  },
  {
   "cell_type": "markdown",
   "source": [
    "Доверительный интервал для дисперсии случайной ошибки:"
   ],
   "metadata": {
    "collapsed": false
   }
  },
  {
   "cell_type": "code",
   "execution_count": 119,
   "outputs": [
    {
     "name": "stdout",
     "output_type": "stream",
     "text": [
      "Доверительный интервал для дисперсии случайной ошибки: (465.23655458059096; 484.4163317624739)\n"
     ]
    }
   ],
   "source": [
    "pe_1 = SSR / chi2.ppf(1 - alpha / 2, df = n - 4)\n",
    "pe_2 = SSR / chi2.ppf(alpha / 2, df = n - 4)\n",
    "\n",
    "print(f'Доверительный интервал для дисперсии случайной ошибки: ({pe_1}; {pe_2})')"
   ],
   "metadata": {
    "collapsed": false,
    "ExecuteTime": {
     "start_time": "2023-05-28T23:49:45.362783Z",
     "end_time": "2023-05-28T23:49:45.430009Z"
    }
   }
  },
  {
   "cell_type": "markdown",
   "id": "ba045ae4",
   "metadata": {},
   "source": [
    "Имеем 95% доверительные интервалы:<br>\n",
    "<br>\n",
    "Для константы: (42.64; 46.579)<br>\n",
    "Для коэффициента перед song_duration_ms: (-0.0000081; 0.00000239)<br>\n",
    "Для коэффициента перед danceability: (12.479; 16.478)<br>\n",
    "Для коэффициента перед energy: (-1.719;  1.205)<br>\n",
    "Для дисперсии случайной ошибки: (465.236; 484.416)<br>"
   ]
  },
  {
   "cell_type": "markdown",
   "id": "16fc921f",
   "metadata": {},
   "source": [
    "Коэффициент детерминации:"
   ]
  },
  {
   "cell_type": "markdown",
   "source": [
    "$R^2 = 1 - \\dfrac{\\text{SSR}}{\\text{TSS}}$, где $\\text{TSS} = \\sum_{i=1}^{n} (y_i - \\overline{y})^2$, и $\\overline{y} = \\dfrac{1}{n} \\sum_{i=1}^{n} y_i$"
   ],
   "metadata": {
    "collapsed": false
   }
  },
  {
   "cell_type": "code",
   "execution_count": 120,
   "id": "97980d92",
   "metadata": {
    "ExecuteTime": {
     "start_time": "2023-05-28T23:49:45.374824Z",
     "end_time": "2023-05-28T23:49:45.441933Z"
    }
   },
   "outputs": [],
   "source": [
    "TSS = np.sum((y-np.mean(y))**2)\n",
    "R2 = 1 - SSR/TSS"
   ]
  },
  {
   "cell_type": "code",
   "execution_count": 121,
   "outputs": [
    {
     "name": "stdout",
     "output_type": "stream",
     "text": [
      "0.011\n"
     ]
    }
   ],
   "source": [
    "R2_rounded = round(R2, 3)\n",
    "print(R2_rounded)"
   ],
   "metadata": {
    "collapsed": false,
    "ExecuteTime": {
     "start_time": "2023-05-28T23:49:45.382815Z",
     "end_time": "2023-05-28T23:49:45.448404Z"
    }
   }
  },
  {
   "cell_type": "markdown",
   "id": "591b0fdf",
   "metadata": {},
   "source": [
    "Гипотезы из условия:<br>\n",
    "Чем больше энергичность, тем больше популярность\n",
    "$H_0: \\beta_3 \\leq 0$,\n",
    "$H_1: \\beta_3 > 0$, $\\beta_3$ (коэффициент при energy в модели)<br>\n",
    "<br>\n",
    "Популярность зависит от продолжительности\n",
    "$H_0: \\beta_1 = 0$,\n",
    "$H_1: \\beta_1 \\neq 0$, $\\beta_1$ (коэффициент при song_duration_ms в модели)<br>\n",
    "<br>\n",
    "Популярность зависит от энергичности и танцевальности\n",
    "$H_0: \\beta_2 = \\beta_3 = 0$,\n",
    "$H_1: \\text{хотя бы один из коэффициентов}\\ \\beta_2, \\beta_3\\ \\text{отличен от}\\ 0$, $\\beta_2, \\beta_3$ (коэффициенты при danceability и energy соответственно)"
   ]
  },
  {
   "cell_type": "markdown",
   "id": "9286cb9e",
   "metadata": {},
   "source": [
    "Первые две гипотезы на уровне значимости $\\alpha$ проверим с помощью t-статистики:<br>\n",
    "$t = \\dfrac{b_i}{\\sqrt{\\text{Var}(b)_i}}$, где в первом случае нулевая гипотеза отвергается, если значение статистики превышает квантиль уровня $1 - \\alpha$ распределения Стьюдента с $n-k$ степенями свободы, во втором случае - если значение статистики по модулю превышает квантиль уровня $1 - \\alpha/2$ распределения Стьюдента с $n-k$ степенями свободы.<br>\n",
    "<br>\n",
    "Третью гипотезу проверим с помощью F-статистики:<br>\n",
    "$F = \\dfrac{(R^2_u - R^2_r)/m}{(1 - R^2_u)/(n-k)}$, где $R^2_u, R^2_r$ - коэффициенты детерминации соответственно в модели без ограничений и модели с ограничениями, $m$ - количество ограничений (здесь $m = 2$).<br>\n",
    "Нулевая гипотеза отвергается на уровне значимости $\\alpha$, если значение статистики превышает квантиль уровня $1-\\alpha$ распределения Фишера со степенями свободы $m$ и $n-k$"
   ]
  },
  {
   "cell_type": "code",
   "execution_count": 122,
   "id": "c9d6fa93",
   "metadata": {
    "ExecuteTime": {
     "start_time": "2023-05-28T23:49:45.388994Z",
     "end_time": "2023-05-28T23:49:45.448575Z"
    }
   },
   "outputs": [],
   "source": [
    "t_energy = b[3] / se_x3\n",
    "t_duration = b[1] / se_x1"
   ]
  },
  {
   "cell_type": "code",
   "execution_count": 123,
   "id": "be9fbe6a",
   "metadata": {
    "ExecuteTime": {
     "start_time": "2023-05-28T23:49:45.400434Z",
     "end_time": "2023-05-28T23:49:45.448867Z"
    }
   },
   "outputs": [
    {
     "data": {
      "text/plain": "False"
     },
     "execution_count": 123,
     "metadata": {},
     "output_type": "execute_result"
    }
   ],
   "source": [
    "t_energy > t.ppf(0.95, df = n - 4)"
   ]
  },
  {
   "cell_type": "markdown",
   "id": "b262eb91",
   "metadata": {},
   "source": [
    "Нулевая гипотеза ($\\beta_3 \\leq 0$) не отвергается на уровне значимости 0.05, то есть нельзя утверждать, что чем больше энергичность песни, тем больше её популярность (с максимальной вероятностью ошибки первого рода в 0.05)"
   ]
  },
  {
   "cell_type": "code",
   "execution_count": 124,
   "id": "c8acf12e",
   "metadata": {
    "ExecuteTime": {
     "start_time": "2023-05-28T23:49:45.415429Z",
     "end_time": "2023-05-28T23:49:45.449062Z"
    }
   },
   "outputs": [
    {
     "data": {
      "text/plain": "False"
     },
     "execution_count": 124,
     "metadata": {},
     "output_type": "execute_result"
    }
   ],
   "source": [
    "abs(t_duration) > t.ppf(0.975, df = n-4)"
   ]
  },
  {
   "cell_type": "markdown",
   "id": "6f196457",
   "metadata": {},
   "source": [
    "Нулевая гипотеза ($\\beta_1 = 0$) не отвергается на уровне значимости 0.05, то есть можно утверждать, что популярность песни не зависит от продолжительности (с максимальной вероятностью ошибки первого рода в 0.05)"
   ]
  },
  {
   "cell_type": "markdown",
   "id": "c5cd571b",
   "metadata": {},
   "source": [
    "Посчитаем $R^2_r$, для этого посчитаем коэффициент детерминации в модели с ограничениями (в модели, где в качестве независимых переменных выступают константа и продолжительность песни):"
   ]
  },
  {
   "cell_type": "code",
   "execution_count": 125,
   "id": "cda4a73a",
   "metadata": {
    "ExecuteTime": {
     "start_time": "2023-05-28T23:49:45.433707Z",
     "end_time": "2023-05-28T23:49:45.449229Z"
    }
   },
   "outputs": [],
   "source": [
    "X_restricted = np.hstack((C, duration))\n",
    "\n",
    "b_restricted = np.linalg.inv(X_restricted.T @ X_restricted) @ X_restricted.T @ y\n",
    "y_restricted = X_restricted @ b_restricted\n",
    "\n",
    "SSR_restricted = np.sum((y - y_restricted)**2)\n",
    "R2_restricted = 1 - SSR_restricted/TSS"
   ]
  },
  {
   "cell_type": "code",
   "execution_count": 126,
   "id": "9fabb351",
   "metadata": {
    "ExecuteTime": {
     "start_time": "2023-05-28T23:49:45.445735Z",
     "end_time": "2023-05-28T23:49:45.526514Z"
    }
   },
   "outputs": [],
   "source": [
    "F = ((R2 - R2_restricted) / 2) / ((1 - R2) / (n - 4))"
   ]
  },
  {
   "cell_type": "code",
   "execution_count": 127,
   "outputs": [
    {
     "name": "stdout",
     "output_type": "stream",
     "text": [
      "100.80783806591582\n"
     ]
    }
   ],
   "source": [
    "print(F)"
   ],
   "metadata": {
    "collapsed": false,
    "ExecuteTime": {
     "start_time": "2023-05-28T23:49:45.453517Z",
     "end_time": "2023-05-28T23:49:45.527157Z"
    }
   }
  },
  {
   "cell_type": "code",
   "execution_count": 128,
   "outputs": [
    {
     "data": {
      "text/plain": "True"
     },
     "execution_count": 128,
     "metadata": {},
     "output_type": "execute_result"
    }
   ],
   "source": [
    "F > f.ppf(0.95, dfn = 2, dfd = n - 4)"
   ],
   "metadata": {
    "collapsed": false,
    "ExecuteTime": {
     "start_time": "2023-05-28T23:49:45.463801Z",
     "end_time": "2023-05-28T23:49:45.527339Z"
    }
   }
  },
  {
   "cell_type": "markdown",
   "id": "b2ab77e3",
   "metadata": {},
   "source": [
    "Нулевая гипотеза о том, что популярность песни не зависит от энергичности и танцевальности отвергается на уровне значимости 0.05, то есть можно утверждать, что популярность песни зависит одновременно от энергичности и танцевальности (с максимальной вероятностью ошибки первого рода в 0.05)"
   ]
  }
 ],
 "metadata": {
  "kernelspec": {
   "display_name": "Python 3 (ipykernel)",
   "language": "python",
   "name": "python3"
  },
  "language_info": {
   "codemirror_mode": {
    "name": "ipython",
    "version": 3
   },
   "file_extension": ".py",
   "mimetype": "text/x-python",
   "name": "python",
   "nbconvert_exporter": "python",
   "pygments_lexer": "ipython3",
   "version": "3.9.12"
  }
 },
 "nbformat": 4,
 "nbformat_minor": 5
}
