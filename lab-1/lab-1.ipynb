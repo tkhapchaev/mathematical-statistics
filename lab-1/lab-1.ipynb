{
 "cells": [
  {
   "cell_type": "markdown",
   "id": "a578e464",
   "metadata": {},
   "source": [
    "# Лабораторная работа № 1\n",
    "## Хапчаев Тимур Русланович M32071\n",
    "### Задание 1 (вариант 3)"
   ],
   "outputs": []
  },
  {
   "cell_type": "markdown",
   "source": [
    "Воспользуемся неравенством Чебышёва:\n",
    "<br>\n",
    "$P(|\\overline{X} - \\mu| \\leq \\epsilon) \\geq 1 - \\frac{\\text{Var}(\\overline{X})}{\\epsilon^2}$<br>\n",
    "<br>\n",
    "$\\text{Var}(\\overline{X}) = \\frac{\\text{Var(X_i)}}{n} = \\frac{1}{n} * \\frac{1 - p}{p^2}$<br>\n",
    "<br>\n",
    "$P(|\\overline{X} - \\mu| \\leq \\epsilon) \\geq 1 - \\frac{\\text{Var}(\\overline{X})}{\\epsilon^2} = 1 - \\frac{1 - p}{n * p^2 * 0.01^2} \\geq 0.95$<br>\n",
    "<br>\n",
    "$0.05 \\geq \\frac{1 - p}{n * p^2 * 0.01^2}$<br>\n",
    "<br>\n",
    "$1 \\geq \\frac{1 - p}{0.05 * n * p^2 * 0.01^2}$<br>\n",
    "<br>\n",
    "$n \\geq \\frac{1 - p}{0.05 * p^2 * 0.01^2}$<br>\n",
    "<br>\n",
    "Максимум выражения справа достигается в левой его границе, при $p = \\frac{1}{4}$. Подставляя это значение, имеем $n = \\frac{1 - 0.25}{0.05 * 0.25^2 * 0.01^2} = 2400000$. Так как неравенство Чебышёва учитывает все распределения и значения параметра, то данный объем удовлетворяет условию задачи."
   ],
   "metadata": {
    "collapsed": false
   },
   "outputs": []
  },
  {
   "cell_type": "markdown",
   "id": "3e2316a8",
   "metadata": {},
   "source": [
    "Заметим, что получившийся объём очень велик, так как неравенство Чебышёва дает грубую оценку для искомой вероятности. Более того, операционная система моего ноутбука отказывает Python в выделении такого большого количества памяти. В качестве альтернативного решения можно использовать центральную предельную теорему – выборочное среднее при больших $n$ имеет приблизительно нормальное распределение с параметрами $\\mu$ и $\\sigma^2/n$. При этом, так как $\\overline{X} \\sim N(\\mu; \\sigma^2/n)$, то $\\frac{\\overline{X} - \\mu}{\\sigma/\\sqrt{n}} \\sim N(0; 1)$ – по свойству нормального распределения.\n",
    "<br>\n",
    "$P(|\\overline{X} - \\mu| \\leq \\epsilon) = P(\\normalsize -\\epsilon \\leq \\overline{X} - \\mu \\leq \\epsilon) = P(\\frac{-\\epsilon}{\\sigma/\\sqrt{n}} \\leq \\frac{\\overline{X} - \\mu}{\\sigma/\\sqrt{n}} \\leq \\frac{\\epsilon}{\\sigma/\\sqrt{n}}) = F(\\frac{\\epsilon}{\\sigma/\\sqrt{n}}) - F(-\\frac{\\epsilon}{\\sigma/\\sqrt{n}}) = 2F(\\frac{\\epsilon\\sqrt{n}}{\\sigma}) - 1 \\geq 0.95$<br>\n",
    "<br>\n",
    "Здесь $F(x)$ – функция стандартного нормального распределения, поэтому $F(x) - F(-x) = F(x) - (1 - F(x)) = 2F(x) - 1$<br>\n",
    "<br>\n",
    "$F(\\frac{\\epsilon\\sqrt{n}}{\\sigma}) \\geq \\frac{1 + 0.95}{2} \\Longrightarrow \\frac{\\epsilon\\sqrt{n}}{\\sigma} \\geq q$, где $q$ – квантиль стандартного нормального распределения уровня $(1+0.95)/2 = 0.975$, то есть $q = 1.96$<br>\n",
    "<br>\n",
    "$n \\large \\geq \\frac{q^2 * \\sigma^2}{\\epsilon^2} = \\frac{1.96^2 * \\sigma^2}{0.01^2}$<br>\n",
    "<br>\n",
    "Как и в предыдущем пункте, это неравенство выполняется для всех p из указанного интервала, если дисперсия величины $\\sigma^2$ - максимальна. Она максимальна при $p = 1/4$, тогда:\n",
    "<br>\n",
    "$n = \\frac{1.96^2 * 3/4}{1/16 * 0.01^2} = 460992$<br>\n",
    "<br>\n",
    "\n",
    "Сгенерируем выборки с найденным объёмом:"
   ]
  },
  {
   "cell_type": "code",
   "execution_count": 23,
   "id": "a07e835e",
   "metadata": {},
   "outputs": [],
   "source": [
    "import numpy as np\n",
    "np.random.seed(8080)\n",
    "selection_array = np.random.geometric(p = 4 / 5, size = (500, 460992)) # гененрируем 500 выборок найденного объёма в 460992\n",
    "mean_array = np.mean(selection_array, axis = 1) # массив выборочных средних для каждой выборки\n",
    "difference_value = 0 # количество раз, когда модуль разности выборочного среднего и математического ожидания превышает 0.01\n",
    "\n",
    "for mean in mean_array:\n",
    "      if abs(mean - (5 / 4)) > 0.01:\n",
    "            difference_value += 1"
   ]
  },
  {
   "cell_type": "code",
   "execution_count": 24,
   "id": "79242b05",
   "metadata": {},
   "outputs": [
    {
     "name": "stdout",
     "output_type": "stream",
     "text": [
      "Среди имеющихся 500 выборок модуль разности выборочного среднего и математического ожидания превысил значение 0.01 ровно 0 раз\n"
     ]
    }
   ],
   "source": [
    "print(f'Среди имеющихся 500 выборок модуль разности выборочного среднего и математического ожидания превысил значение 0.01 ровно {difference_value} раз')"
   ]
  },
  {
   "cell_type": "code",
   "execution_count": 25,
   "id": "fcc3e55d",
   "metadata": {},
   "outputs": [
    {
     "data": {
      "text/plain": "True"
     },
     "execution_count": 25,
     "metadata": {},
     "output_type": "execute_result"
    }
   ],
   "source": [
    "len(mean_array) == 500 # проверка, что количество выборочных средних равно количеству сгенерированных выборок"
   ]
  },
  {
   "cell_type": "markdown",
   "source": [
    "### Задание 2 (вариант 2)"
   ],
   "metadata": {
    "collapsed": false
   }
  },
  {
   "cell_type": "code",
   "execution_count": 26,
   "outputs": [],
   "source": [
    "import pandas as pd"
   ],
   "metadata": {
    "collapsed": false
   }
  },
  {
   "cell_type": "code",
   "execution_count": 27,
   "outputs": [],
   "source": [
    "data = pd.read_csv(\"D:\\Projects\\mathematical-statistics\\sex_bmi_smokers.csv\")"
   ],
   "metadata": {
    "collapsed": false
   }
  },
  {
   "cell_type": "code",
   "execution_count": 28,
   "outputs": [
    {
     "data": {
      "text/plain": "      sex     bmi smoker\n0  female  27.900    yes\n1    male  33.770     no\n2    male  33.000     no\n3    male  22.705     no\n4    male  28.880     no",
      "text/html": "<div>\n<style scoped>\n    .dataframe tbody tr th:only-of-type {\n        vertical-align: middle;\n    }\n\n    .dataframe tbody tr th {\n        vertical-align: top;\n    }\n\n    .dataframe thead th {\n        text-align: right;\n    }\n</style>\n<table border=\"1\" class=\"dataframe\">\n  <thead>\n    <tr style=\"text-align: right;\">\n      <th></th>\n      <th>sex</th>\n      <th>bmi</th>\n      <th>smoker</th>\n    </tr>\n  </thead>\n  <tbody>\n    <tr>\n      <th>0</th>\n      <td>female</td>\n      <td>27.900</td>\n      <td>yes</td>\n    </tr>\n    <tr>\n      <th>1</th>\n      <td>male</td>\n      <td>33.770</td>\n      <td>no</td>\n    </tr>\n    <tr>\n      <th>2</th>\n      <td>male</td>\n      <td>33.000</td>\n      <td>no</td>\n    </tr>\n    <tr>\n      <th>3</th>\n      <td>male</td>\n      <td>22.705</td>\n      <td>no</td>\n    </tr>\n    <tr>\n      <th>4</th>\n      <td>male</td>\n      <td>28.880</td>\n      <td>no</td>\n    </tr>\n  </tbody>\n</table>\n</div>"
     },
     "execution_count": 28,
     "metadata": {},
     "output_type": "execute_result"
    }
   ],
   "source": [
    "data.head()"
   ],
   "metadata": {
    "collapsed": false
   }
  },
  {
   "cell_type": "code",
   "execution_count": 29,
   "outputs": [
    {
     "name": "stdout",
     "output_type": "stream",
     "text": [
      "<class 'pandas.core.frame.DataFrame'>\n",
      "RangeIndex: 1338 entries, 0 to 1337\n",
      "Data columns (total 3 columns):\n",
      " #   Column  Non-Null Count  Dtype  \n",
      "---  ------  --------------  -----  \n",
      " 0   sex     1338 non-null   object \n",
      " 1   bmi     1338 non-null   float64\n",
      " 2   smoker  1338 non-null   object \n",
      "dtypes: float64(1), object(2)\n",
      "memory usage: 31.5+ KB\n"
     ]
    }
   ],
   "source": [
    "data.info()"
   ],
   "metadata": {
    "collapsed": false
   }
  },
  {
   "cell_type": "code",
   "execution_count": 30,
   "outputs": [
    {
     "data": {
      "text/plain": "159"
     },
     "execution_count": 30,
     "metadata": {},
     "output_type": "execute_result"
    }
   ],
   "source": [
    "(data[(data[\"smoker\"] == \"yes\") & (data[\"sex\"] == \"male\")]).shape[0] # количество курящих мужчин"
   ],
   "metadata": {
    "collapsed": false
   }
  },
  {
   "cell_type": "code",
   "execution_count": 31,
   "outputs": [
    {
     "data": {
      "text/plain": "547"
     },
     "execution_count": 31,
     "metadata": {},
     "output_type": "execute_result"
    }
   ],
   "source": [
    "(data[(data[\"smoker\"] == \"no\") & (data[\"sex\"] == \"female\")]).shape[0] # количество некурящих женщин"
   ],
   "metadata": {
    "collapsed": false
   }
  },
  {
   "cell_type": "markdown",
   "source": [
    "Некурящих женщин значительно больше, чем курящих мужчин, 547 против 159 испытуемых"
   ],
   "metadata": {
    "collapsed": false
   }
  },
  {
   "cell_type": "code",
   "execution_count": 32,
   "outputs": [],
   "source": [
    "data_male_smoke = data[(data[\"smoker\"] == \"yes\") & (data[\"sex\"] == \"male\")]\n",
    "data_male_not_smoker = data[(data[\"smoker\"] == \"no\") & (data[\"sex\"] == \"male\")]\n",
    "data_female_smoke = data[(data[\"smoker\"] == \"yes\") & (data[\"sex\"] == \"female\")]\n",
    "data_female_not_smoker = data[(data[\"smoker\"] == \"no\") & (data[\"sex\"] == \"female\")]"
   ],
   "metadata": {
    "collapsed": false
   }
  },
  {
   "cell_type": "code",
   "execution_count": 33,
   "outputs": [
    {
     "name": "stdout",
     "output_type": "stream",
     "text": [
      "True\n",
      "True\n"
     ]
    }
   ],
   "source": [
    "print(data_male_smoke.shape[0] + data_male_not_smoker.shape[0] == data[data[\"sex\"] == \"male\"].shape[0])\n",
    "print(data_female_smoke.shape[0] + data_female_not_smoker.shape[0] == data[data[\"sex\"] == \"female\"].shape[0])"
   ],
   "metadata": {
    "collapsed": false
   }
  },
  {
   "cell_type": "code",
   "execution_count": 34,
   "outputs": [
    {
     "name": "stdout",
     "output_type": "stream",
     "text": [
      "Для курящих мужчин выборочное среднее ИМТ составило 31.504, выборочная дисперсия ИМТ составила 35.427,\n",
      "выборочная медиана ИМТ составила 31.13, выборочная квантиль порядка 3/5 составила 33.244.\n"
     ]
    }
   ],
   "source": [
    "print(f'Для курящих мужчин выборочное среднее ИМТ составило {round((data_male_smoke[\"bmi\"]).mean(), 3)}, выборочная дисперсия ИМТ составила {round((data_male_smoke[\"bmi\"]).var(ddof = 1), 3)},')\n",
    "print(f'выборочная медиана ИМТ составила {round((data_male_smoke[\"bmi\"]).median(), 3)}, выборочная квантиль порядка 3/5 составила {round((data_male_smoke[\"bmi\"]).quantile(q = 3 / 5), 3)}.')"
   ],
   "metadata": {
    "collapsed": false
   }
  },
  {
   "cell_type": "code",
   "execution_count": 35,
   "outputs": [
    {
     "name": "stdout",
     "output_type": "stream",
     "text": [
      "Для некурящих мужчин выборочное среднее ИМТ составило 30.771, выборочная дисперсия ИМТ составила 38.349,\n",
      "выборочная медиана ИМТ составила 30.495, выборочная квантиль порядка 3/5 составила 32.11.\n"
     ]
    }
   ],
   "source": [
    "print(f'Для некурящих мужчин выборочное среднее ИМТ составило {round((data_male_not_smoker[\"bmi\"]).mean(), 3)}, выборочная дисперсия ИМТ составила {round((data_male_not_smoker[\"bmi\"]).var(ddof = 1), 3)},')\n",
    "print(f'выборочная медиана ИМТ составила {round((data_male_not_smoker[\"bmi\"]).median(), 3)}, выборочная квантиль порядка 3/5 составила {round((data_male_not_smoker[\"bmi\"]).quantile(q = 3 / 5), 3)}.')"
   ],
   "metadata": {
    "collapsed": false
   }
  },
  {
   "cell_type": "code",
   "execution_count": 36,
   "outputs": [
    {
     "name": "stdout",
     "output_type": "stream",
     "text": [
      "Для курящих женщин выборочное среднее ИМТ составило 29.608, выборочная дисперсия ИМТ составила 44.406,\n",
      "выборочная медиана ИМТ составила 28.38, выборочная квантиль порядка 3/5 составила 30.876.\n"
     ]
    }
   ],
   "source": [
    "print(f'Для курящих женщин выборочное среднее ИМТ составило {round((data_female_smoke[\"bmi\"]).mean(), 3)}, выборочная дисперсия ИМТ составила {round((data_female_smoke[\"bmi\"]).var(ddof = 1), 3)},')\n",
    "print(f'выборочная медиана ИМТ составила {round((data_female_smoke[\"bmi\"]).median(), 3)}, выборочная квантиль порядка 3/5 составила {round((data_female_smoke[\"bmi\"]).quantile(q = 3 / 5), 3)}.')"
   ],
   "metadata": {
    "collapsed": false
   }
  },
  {
   "cell_type": "code",
   "execution_count": 37,
   "outputs": [
    {
     "name": "stdout",
     "output_type": "stream",
     "text": [
      "Для некурящих женщин выборочное среднее ИМТ составило 30.54, выборочная дисперсия ИМТ составила 34.831,\n",
      "выборочная медиана ИМТ составила 30.21, выборочная квантиль порядка 3/5 составила 31.912.\n"
     ]
    }
   ],
   "source": [
    "print(f'Для некурящих женщин выборочное среднее ИМТ составило {round((data_female_not_smoker[\"bmi\"]).mean(), 3)}, выборочная дисперсия ИМТ составила {round((data_female_not_smoker[\"bmi\"]).var(ddof = 1), 3)},')\n",
    "print(f'выборочная медиана ИМТ составила {round((data_female_not_smoker[\"bmi\"]).median(), 3)}, выборочная квантиль порядка 3/5 составила {round((data_female_not_smoker[\"bmi\"]).quantile(q = 3 / 5), 3)}.')"
   ],
   "metadata": {
    "collapsed": false
   }
  },
  {
   "cell_type": "code",
   "execution_count": 38,
   "outputs": [
    {
     "name": "stdout",
     "output_type": "stream",
     "text": [
      "Для всей совокупности испытуемых выборочное среднее ИМТ составило 30.663, выборочная дисперсия ИМТ составила 37.188,\n",
      "выборочная медиана ИМТ составила 30.4, выборочная квантиль порядка 3/5 составила 32.032.\n"
     ]
    }
   ],
   "source": [
    "print(f'Для всей совокупности испытуемых выборочное среднее ИМТ составило {round((data[\"bmi\"]).mean(), 3)}, выборочная дисперсия ИМТ составила {round((data[\"bmi\"]).var(ddof = 1), 3)},')\n",
    "print(f'выборочная медиана ИМТ составила {round((data[\"bmi\"]).median(), 3)}, выборочная квантиль порядка 3/5 составила {round((data[\"bmi\"]).quantile(q = 3 / 5), 3)}.')"
   ],
   "metadata": {
    "collapsed": false
   }
  },
  {
   "cell_type": "code",
   "execution_count": 39,
   "outputs": [],
   "source": [
    "%matplotlib inline"
   ],
   "metadata": {
    "collapsed": false
   }
  },
  {
   "cell_type": "code",
   "execution_count": 40,
   "outputs": [
    {
     "data": {
      "text/plain": "<Axes: >"
     },
     "execution_count": 40,
     "metadata": {},
     "output_type": "execute_result"
    },
    {
     "data": {
      "text/plain": "<Figure size 640x480 with 1 Axes>",
      "image/png": "[encoded data removed]"
     },
     "metadata": {},
     "output_type": "display_data"
    }
   ],
   "source": [
    "data[[\"bmi\"]].boxplot() # box-plot ИМТ всех наблюдателей"
   ],
   "metadata": {
    "collapsed": false
   }
  },
  {
   "cell_type": "code",
   "execution_count": 41,
   "outputs": [],
   "source": [
    "%matplotlib inline"
   ],
   "metadata": {
    "collapsed": false
   }
  },
  {
   "cell_type": "code",
   "execution_count": 42,
   "outputs": [
    {
     "data": {
      "text/plain": "array([[<Axes: title={'center': 'bmi'}>]], dtype=object)"
     },
     "execution_count": 42,
     "metadata": {},
     "output_type": "execute_result"
    },
    {
     "data": {
      "text/plain": "<Figure size 640x480 with 1 Axes>",
      "image/png": "[encoded data removed]"
     },
     "metadata": {},
     "output_type": "display_data"
    }
   ],
   "source": [
    "data[[\"bmi\"]].hist() # гистограмма ИМТ для всех наблюдателей"
   ],
   "metadata": {
    "collapsed": false
   }
  },
  {
   "cell_type": "markdown",
   "source": [
    "Эмпирическая функция распределения ИМТ для всех наблюдателей:"
   ],
   "metadata": {
    "collapsed": false
   },
   "outputs": []
  },
  {
   "cell_type": "code",
   "execution_count": 43,
   "outputs": [],
   "source": [
    "%matplotlib inline"
   ],
   "metadata": {
    "collapsed": false
   }
  },
  {
   "cell_type": "code",
   "execution_count": 44,
   "outputs": [
    {
     "data": {
      "text/plain": "<Figure size 640x480 with 1 Axes>",
      "image/png": "[encoded data removed]"
     },
     "metadata": {},
     "output_type": "display_data"
    }
   ],
   "source": [
    "import numpy as np\n",
    "import statsmodels.api as sm\n",
    "import matplotlib.pyplot as plt\n",
    "\n",
    "sample = data[\"bmi\"]\n",
    "ecdf = sm.distributions.ECDF(sample)\n",
    "\n",
    "x = np.linspace(min(sample), max(sample))\n",
    "y = ecdf(x)\n",
    "plt.step(x, y)\n",
    "plt.xlabel(\"Значение величины\")\n",
    "plt.ylabel(\"Частота\")\n",
    "plt.title(\"Эмпирическая функция распределения ИМТ всех испытуемых\")\n",
    "plt.show()"
   ],
   "metadata": {
    "collapsed": false
   }
  }
 ],
 "metadata": {
  "kernelspec": {
   "display_name": "Python 3 (ipykernel)",
   "language": "python",
   "name": "python3"
  },
  "language_info": {
   "codemirror_mode": {
    "name": "ipython",
    "version": 3
   },
   "file_extension": ".py",
   "mimetype": "text/x-python",
   "name": "python",
   "nbconvert_exporter": "python",
   "pygments_lexer": "ipython3",
   "version": "3.9.12"
  }
 },
 "nbformat": 4,
 "nbformat_minor": 5
}
