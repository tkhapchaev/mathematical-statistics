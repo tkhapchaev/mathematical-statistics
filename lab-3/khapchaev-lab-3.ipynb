{
 "cells": [
  {
   "cell_type": "markdown",
   "id": "e1f73355",
   "metadata": {},
   "source": [
    "# Лабораторная работа № 3\n",
    "## Хапчаев Тимур Русланович M32071\n",
    "### Задание 1 (вариант 2)"
   ]
  },
  {
   "cell_type": "markdown",
   "id": "7b1ccdc1",
   "metadata": {},
   "source": [
    "Пусть обе неизвестные дисперсии равны $\\sigma^2$. <br>\n",
    "<br>\n",
    "\n",
    "Перепишем статистику, заданную в условии, как:<br>\n",
    "<br>\n",
    "$\\large \\sqrt{\\frac{mn(m+n-2)}{m+n}}\\frac{\\overline{X} - \\overline{Y} - \\tau}{\\sqrt{n\\text{Var}(X) + m\\text{Var}(Y)}} = \\frac{(\\overline{X} - \\overline{Y} - \\tau)/(\\sigma\\sqrt{1/n + 1/m})}{\\large \\sqrt{\\frac{n\\text{Var}(X) + m\\text{Var}(Y)}{\\sigma^2(n+m-2)}}}$.<br>\n",
    "<br>\n",
    "Заметим, так как выборки нормальны, то их выборочные средние являются линейными комбинациями независимых нормальных величин (выборки i. i. d.), поэтому выборочные средние $\\overline{X}$ и $\\overline{Y}$ распределены нормально. В добавок, так как выборки независимы, то линейная комбинация выборочных средних, независимых в этом случае (функции от реализаций независимых выборок) и нормальных, тоже распределена нормально. Поэтому разность $\\overline{X} - \\overline{Y}$ распределена нормально. Более того, $E(\\overline{X}) - E(\\overline{Y}) = E(X) - E(Y) = \\mu_1 - \\mu_2 = \\tau$, и $\\text{Var}(\\overline{X} - \\overline{Y}) = \\text{Var}(\\overline{X}) + \\text{Var}(\\overline{Y}) = \\sigma^2/n + \\sigma^2/m$. Тогда имеем:<br>\n",
    "<br>\n",
    "$(\\overline{X} - \\overline{Y} - \\tau)/(\\sigma\\sqrt{1/n + 1/m}) \\sim N(0; 1)$.<br>\n",
    "<br>\n",
    "По теореме Фишера, $\\large \\frac{n\\text{Var}(X)}{\\sigma^2}$ и $\\large \\frac{m\\text{Var}(Y)}{\\sigma^2}$ (в обозначениях в условии, Var() здесь -  это смещённая выборочная дисперсия) - распределены как хи-квадрат величины с, соответственно, $n-1$ и $m-1$ степенями свободы. Более того, так как они независимы (функции от независимых выборок), то их сумма распределена как хи-квадрат величина с $n-1 + m-1 = n+m-2$ степенями свободы. По той же теореме Фишера, знаменатель нашей дроби независим от числителя.<br>\n",
    "<br>\n",
    "В итоге имеем, что наша дробь распределена, как $\\large \\frac{N(0; 1)}{\\sqrt{\\chi^2/(n+m-2)}}$, причем числитель и знаменатель независимы, то есть она имеет распределение Стьюдента с $n+m-2$ степенями свободы по определению. <br>\n",
    "<br>\n",
    "Тогда:<br>\n",
    "<br>\n",
    "$P(\\large -q \\leq \\large \\sqrt{\\frac{mn(m+n-2)}{m+n}}\\frac{\\overline{X} - \\overline{Y} - \\tau}{\\sqrt{n\\text{Var}(X) + m\\text{Var}(Y)}} \\leq q) = 1-\\alpha$, или:<br>\n",
    "<br>\n",
    "$P(\\overline{X} - \\overline{Y} - \\large \\frac{qB}{A} \\normalsize \\leq \\tau \\leq \\overline{X} - \\overline{Y} + \\large \\frac{qB}{A} \\normalsize ) = 1-\\alpha$,<br>\n",
    "<br>\n",
    "где $B = \\sqrt{n\\text{Var}(X) + m\\text{Var}(Y)}$ и $A = \\large \\sqrt{\\frac{mn(m+n-2)}{m+n}}$.<br>\n",
    "<br>\n",
    "Здесь $q$ - это квантиль распределения Стьюдента с $n+m-2$ степенями свободы уровня $1 - \\alpha/2$.<br>\n",
    "<br>"
   ]
  },
  {
   "cell_type": "code",
   "execution_count": 1,
   "id": "47df58a3",
   "metadata": {
    "ExecuteTime": {
     "start_time": "2023-04-30T16:03:46.488404Z",
     "end_time": "2023-04-30T16:03:47.231382Z"
    }
   },
   "outputs": [],
   "source": [
    "import numpy as np\n",
    "from scipy.stats import t"
   ]
  },
  {
   "cell_type": "code",
   "execution_count": 2,
   "id": "16bfa8f2",
   "metadata": {
    "ExecuteTime": {
     "start_time": "2023-04-30T16:03:47.234400Z",
     "end_time": "2023-04-30T16:03:47.355741Z"
    }
   },
   "outputs": [],
   "source": [
    "n, m = 25, 25\n",
    "np.random.seed(8080)\n",
    "cover = 0\n",
    "\n",
    "for i in range(1000):\n",
    "    first_sample = np.random.normal(size = n, loc = 2, scale = 1)\n",
    "    second_sample = np.random.normal(size = m, loc = 1, scale = 1)\n",
    "\n",
    "    A = np.sqrt(m * n * (n + m - 2) / (m + n))\n",
    "    B = np.sqrt(n * np.var(first_sample) + m * np.var(second_sample))\n",
    "\n",
    "    if np.mean(first_sample) - np.mean(second_sample) - t.ppf(q = 0.975, df = n + m - 2) * B / A <= 1 <= \\\n",
    "    np.mean(first_sample) - np.mean(second_sample) + t.ppf(q = 0.975, df = n + m - 2) * B / A:\n",
    "        cover += 1"
   ]
  },
  {
   "cell_type": "code",
   "execution_count": 3,
   "id": "48ac6dc6",
   "metadata": {
    "ExecuteTime": {
     "start_time": "2023-04-30T16:03:47.356391Z",
     "end_time": "2023-04-30T16:03:47.358787Z"
    }
   },
   "outputs": [
    {
     "name": "stdout",
     "output_type": "stream",
     "text": [
      "Доверительный интервал для выборок объёма 25 покрыл реальное значение параметра 955 раз.\n"
     ]
    }
   ],
   "source": [
    "print(f'Доверительный интервал для выборок объёма 25 покрыл реальное значение параметра {cover} раз.')"
   ]
  },
  {
   "cell_type": "code",
   "execution_count": 4,
   "id": "bf2d1177",
   "metadata": {
    "ExecuteTime": {
     "start_time": "2023-04-30T16:03:47.360676Z",
     "end_time": "2023-04-30T16:03:47.801714Z"
    }
   },
   "outputs": [],
   "source": [
    "n, m = 10000, 10000\n",
    "np.random.seed(8080)\n",
    "cover = 0\n",
    "\n",
    "for i in range(1000):\n",
    "    first_sample = np.random.normal(size = n, loc = 2, scale = 1)\n",
    "    second_sample = np.random.normal(size = m, loc = 1, scale = 1)\n",
    "\n",
    "    A = np.sqrt(m * n * (n + m - 2) / (m + n))\n",
    "    B = np.sqrt(n * np.var(first_sample) + m * np.var(second_sample))\n",
    "\n",
    "    if np.mean(first_sample) - np.mean(second_sample) - t.ppf(q = 0.975, df = n + m - 2) * B / A <= 1 <= \\\n",
    "    np.mean(first_sample) - np.mean(second_sample) + t.ppf(q = 0.975, df = n + m - 2) * B / A:\n",
    "        cover += 1"
   ]
  },
  {
   "cell_type": "code",
   "execution_count": 5,
   "id": "90c11dc5",
   "metadata": {
    "ExecuteTime": {
     "start_time": "2023-04-30T16:03:47.803184Z",
     "end_time": "2023-04-30T16:03:47.805484Z"
    }
   },
   "outputs": [
    {
     "name": "stdout",
     "output_type": "stream",
     "text": [
      "Доверительный интервал для выборок объёма 10000 покрыл реальное значение параметра 952 раз.\n"
     ]
    }
   ],
   "source": [
    "print(f'Доверительный интервал для выборок объёма 10000 покрыл реальное значение параметра {cover} раз.')"
   ]
  },
  {
   "cell_type": "markdown",
   "id": "372baa62",
   "metadata": {},
   "source": [
    "Так как в нашем случае построенный доверительный интервал является точным (вероятность покрытия постоянна, так как теоретически обоснована), то доля покрытия им истинного значения параметра близка к 0.95 и в случае маленьких, и в случае больших выборок."
   ]
  },
  {
   "cell_type": "markdown",
   "id": "0787a2dd",
   "metadata": {},
   "source": [
    "### Задание 2 (вариант 6)"
   ]
  },
  {
   "cell_type": "markdown",
   "id": "e1bc796f",
   "metadata": {},
   "source": [
    "Заметим, что $E(X) = (0+\\theta)/2 = \\theta/2$, поэтому $2\\overline{X}$ - состоятельная оценка для $\\theta$ в силу закона больших чисел. Также $\\text{Var}(X) = \\theta^2/12$.<br>\n",
    "<br>\n",
    "Имеем i. i. d. наблюдения из распределения с конечным вторым моментом. Применим ЦПТ:<br>\n",
    "<br>\n",
    "$\\sqrt{n}(\\overline{X} - E(X)) \\xrightarrow{d} N(0; \\theta^2/12)$, или:<br>\n",
    "<br>\n",
    "$\\large \\frac{\\sqrt{n}(\\overline{X} - \\theta/2)}{\\theta/(2\\sqrt{3})} \\xrightarrow{d} \\normalsize N(0; 1)$.<br>\n",
    "<br>\n",
    "Данная сходимость по распределению сохраняется в силу теоремы Слуцкого при замене $\\theta$ в знаменателе на его состоятельную оценку $2\\overline{X}$. Тогда, асимптотически, полученная дробь будет иметь стандартное нормальное распределение, а значит:<br>\n",
    "<br>\n",
    "$\\large P(\\large -q \\leq \\sqrt{3n}(1 - \\large \\frac{\\theta}{2\\overline{X}}) \\leq q) = \\normalsize 1-\\alpha$, или:<br>\n",
    "<br>\n",
    "$\\large P(\\normalsize 2\\overline{X} - \\large \\frac{2q\\overline{X}}{\\sqrt{3n}} \\normalsize \\leq \\theta \\leq 2\\overline{X} + \\large \\frac{2q\\overline{X}}{\\sqrt{3n}}\\normalsize) \\ = 1 - \\alpha$.<br>\n",
    "<br>\n",
    "Здесь $q$ - квантиль стандартного нормального распределения уровня $1-\\alpha/2$.<br>\n",
    "<br>"
   ]
  },
  {
   "cell_type": "code",
   "execution_count": 6,
   "id": "be985022",
   "metadata": {
    "ExecuteTime": {
     "start_time": "2023-04-30T16:03:47.806565Z",
     "end_time": "2023-04-30T16:03:47.808015Z"
    }
   },
   "outputs": [],
   "source": [
    "import numpy as np\n",
    "from scipy.stats import norm"
   ]
  },
  {
   "cell_type": "code",
   "execution_count": 7,
   "id": "6dafd5c9",
   "metadata": {
    "ExecuteTime": {
     "start_time": "2023-04-30T16:03:47.810372Z",
     "end_time": "2023-04-30T16:03:47.910408Z"
    }
   },
   "outputs": [],
   "source": [
    "n = 25\n",
    "np.random.seed(8080)\n",
    "cover = 0\n",
    "\n",
    "for i in range(1000):\n",
    "    sample = np.random.uniform(size = n, low = 0, high = 2)\n",
    "\n",
    "    if 2 * np.mean(sample) - 2 * norm.ppf(q = 0.975, loc = 0, scale = 1) * np.mean(sample) / np.sqrt(3 * n) <= 2 <=\\\n",
    "    2 * np.mean(sample) + 2 * norm.ppf(q = 0.975, loc = 0, scale = 1) * np.mean(sample) / np.sqrt(3 * n):\n",
    "        cover += 1"
   ]
  },
  {
   "cell_type": "code",
   "execution_count": 8,
   "id": "6e103cbb",
   "metadata": {
    "ExecuteTime": {
     "start_time": "2023-04-30T16:03:47.911656Z",
     "end_time": "2023-04-30T16:03:47.913506Z"
    }
   },
   "outputs": [
    {
     "name": "stdout",
     "output_type": "stream",
     "text": [
      "Асимптотический доверительный интервал для выборки объёма 25 покрыл реальное значение параметра 949 раз.\n"
     ]
    }
   ],
   "source": [
    "print(f'Асимптотический доверительный интервал для выборки объёма 25 покрыл реальное значение параметра {cover} раз.')"
   ]
  },
  {
   "cell_type": "code",
   "execution_count": 9,
   "id": "3cd12938",
   "metadata": {
    "ExecuteTime": {
     "start_time": "2023-04-30T16:03:47.914967Z",
     "end_time": "2023-04-30T16:03:48.058353Z"
    }
   },
   "outputs": [],
   "source": [
    "n = 10000\n",
    "np.random.seed(8080)\n",
    "cover = 0\n",
    "\n",
    "for i in range(1000):\n",
    "    sample = np.random.uniform(size = n, low = 0, high = 2)\n",
    "\n",
    "    if 2 * np.mean(sample) - 2 * norm.ppf(q = 0.975, loc = 0, scale = 1) * np.mean(sample) / np.sqrt(3 * n) <= 2 <=\\\n",
    "    2 * np.mean(sample) + 2 * norm.ppf(q = 0.975, loc = 0, scale = 1) * np.mean(sample) / np.sqrt(3 * n):\n",
    "        cover += 1"
   ]
  },
  {
   "cell_type": "code",
   "execution_count": 10,
   "id": "fc306e5d",
   "metadata": {
    "ExecuteTime": {
     "start_time": "2023-04-30T16:03:48.059183Z",
     "end_time": "2023-04-30T16:03:48.061272Z"
    }
   },
   "outputs": [
    {
     "name": "stdout",
     "output_type": "stream",
     "text": [
      "Асимптотический доверительный интервал для выборки объёма 10000 покрыл реальное значение параметра 964 раз.\n"
     ]
    }
   ],
   "source": [
    "print(f'Асимптотический доверительный интервал для выборки объёма 10000 покрыл реальное значение параметра {cover} раз.')"
   ]
  },
  {
   "cell_type": "markdown",
   "id": "1716af85",
   "metadata": {},
   "source": [
    "Опять же, имеем вероятность покрытия в обоих случаях близкую к заданной в 0.95. Это объясняется тем, что выборочное среднее равномерных величин довольно быстро сходится к нормальной величине, а также тем, что выборочное среднее по вероятности так же быстро сходится к оцениваемому параметру. То есть такой доверительный интервал довольно близок к точному даже при умеренном объёме выборки в несколько десятков наблюдений.\n"
   ]
  }
 ],
 "metadata": {
  "kernelspec": {
   "display_name": "Python 3 (ipykernel)",
   "language": "python",
   "name": "python3"
  },
  "language_info": {
   "codemirror_mode": {
    "name": "ipython",
    "version": 3
   },
   "file_extension": ".py",
   "mimetype": "text/x-python",
   "name": "python",
   "nbconvert_exporter": "python",
   "pygments_lexer": "ipython3",
   "version": "3.9.12"
  }
 },
 "nbformat": 4,
 "nbformat_minor": 5
}
