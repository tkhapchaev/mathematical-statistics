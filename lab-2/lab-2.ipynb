{
 "cells": [
  {
   "cell_type": "markdown",
   "id": "d9848231",
   "metadata": {},
   "source": [
    "### Задача 6"
   ]
  },
  {
   "cell_type": "markdown",
   "id": "481fc7bf",
   "metadata": {},
   "source": [
    "Найдем матожидание случайной величины $X$, имеющей указанную плотность.<br>\n",
    "Интегрируя, находим:<br>\n",
    "<br>\n",
    "$\\normalsize E(X) \\normalsize = \\int_{0}^{\\infty} \\large x \\frac{x^{k-1} e^{-x/\\theta}}{(k-1)!\\theta^k} dx = \\frac{\\theta}{(k-1)!}\\int_{0}^{\\infty} (\\frac{x}{\\theta})^k e^{-x/\\theta} d(\\frac{x}{\\theta}) = \\frac{\\theta}{(k-1)!}\\int_{0}^{\\infty} (y)^k e^{-y} d(y) = \\frac{\\theta}{(k-1)!}Г(k+1) = \\frac{k!\\theta}{(k-1)!} = k\\theta$,<br>\n",
    "<br>\n",
    "здесь мы использовали замену $\\large y = \\frac{x}{\\theta}$ и классическое определение гамма-функции $\\normalsize Г(a) = \\int_{0}^{\\infty} x^{a-1} e^{-x} d(x)$, а также ее свойство $Г(n) = (n-1)!, n \\in N$.<br>\n",
    "<br>\n",
    "Аналогично находим матожидание $X^2$:<br>\n",
    "<br>\n",
    "$\\normalsize E(X^2) \\normalsize = \\int_{0}^{\\infty} \\large x^2 \\frac{x^{k-1} e^{-x/\\theta}}{(k-1)!\\theta^k} dx = \\normalsize \\frac{\\theta^2}{(k-1)!}\\int_{0}^{\\infty} (\\frac{x}{\\theta})^{k+1} e^{-x/\\theta} d(\\frac{x}{\\theta}) = \\frac{\\theta^2}{(k-1)!}\\int_{0}^{\\infty} (y)^{k+1} e^{-y} d(y) = \\frac{\\theta^2}{(k-1)!}Г(k+2) = \\frac{(k+1)!\\theta^2}{(k-1)!} = k(k+1)\\theta^2$,<br>\n",
    "<br>\n",
    "Тогда дисперсия величины:<br>\n",
    "<br>\n",
    "$\\text{Var}(X) = E(X^2) - (EX)^2 = k(k+1)\\theta^2 - k^2\\theta^2 = k\\theta^2$.<br>\n",
    "<br>\n",
    "Приравнивая полученное матожидание к его выборочному аналогу - выборочному среднему, имеем оценку методом моментов:<br>\n",
    "<br>\n",
    "$\\normalsize k\\hat{\\theta}_{\\text{MM}} = \\overline{x} \\longrightarrow \\hat{\\theta}_{\\text{MM}} = \\large \\frac{\\overline{x}}{k}$.<br>\n",
    "<br>\n",
    "Т.к. $E(\\overline{x}) = E(\\sum_{i=1}^{n} x_i)/n = \\sum_{i=1}^{n} E(x_i)/n = nk\\theta/n = k\\theta \\longrightarrow E(\\hat{\\theta}_{\\text{MM}}) = E(\\large \\frac{\\overline{x}}{k}) = \\large \\frac{k\\theta}{k} = \\normalsize \\theta$, <br>\n",
    "<br>\n",
    "то оценка несмещена (использовали факт, что выборка i.i.d.)\n",
    "<br>\n",
    "<br>\n",
    "В силу закона больших чисел выборочное среднее по вероятности сходится к матожиданию случайной величины <br>(при условии, что выборка i.i.d. и матожидание величины существует и конечно), поэтому $\\overline{x} \\xrightarrow{p} E(X) \\longrightarrow \\hat{\\theta}_{\\text{MM}} \\xrightarrow{p} E(X)/k = k\\theta/k = \\theta$ и оценка состоятельна.<br>\n",
    "<br>\n",
    "Информация Фишера для одного наблюдения имеет вид ($f(x)$ - плотность нашей величины):<br>\n",
    "<br>\n",
    "$I(\\theta) = E\\large(\\frac{dln(f(x))}{d\\theta})^2 = \\normalsize E(\\large \\frac{d((k-1)ln(x) - x/\\theta - ln((k-1)!) - kln(\\theta))}{d\\theta})^2 =$<br>\n",
    "<br>\n",
    "$ = \\normalsize E(\\large \\frac{x}{\\theta^2} - \\frac{k}{\\theta})^2 = \\normalsize E( \\frac{1}{\\theta^2}(x - k\\theta))^2 =  \\frac{1}{\\theta^4}E(x - k\\theta)^2 = \\frac{1}{\\theta^4}\\text{Var}(x) = \\large \\frac{k\\theta^2}{\\theta^4} = \\frac{k}{\\theta^2}$.\n",
    "<br>\n",
    "<br>\n",
    "Тогда:<br>\n",
    "<br>\n",
    "$\\large \\frac{1}{nI(\\theta)\\text{Var}(\\hat{\\theta}_{\\text{MM}})} = \\frac{1}{\\Large n\\frac{k}{\\theta^2}\\frac{k\\theta^2}{k^2n}} = 1$, поэтому оценка эффективна (ее дисперсия достигает в классе несмещенных оценок своей нижней границы по Рао-Фреше-крамеру). <br>\n",
    "Здесь мы использовали выражение для дисперсии оценки, учитывая, что выборка i.i.d.:<br>\n",
    "<br>\n",
    "$\\text{Var}(\\hat{\\theta}_{\\text{MM}}) = \\text{Var}(\\large \\frac{\\overline{x}}{k}) = \\large \\frac{\\text{Var}(\\sum_{i=1}^{n} x_i/n)}{k^2} = \\frac{n\\text{Var}(x_i)}{n^2k^2} = \\frac{k\\theta^2}{nk^2} = \\frac{\\theta^2}{kn}$.<br>\n",
    "<br>\n",
    "\n",
    "Проведем теперь эксперимент:"
   ]
  },
  {
   "cell_type": "code",
   "execution_count": 1,
   "id": "b1faca0b",
   "metadata": {},
   "outputs": [],
   "source": [
    "import numpy as np\n",
    "import matplotlib.pyplot as plt"
   ]
  },
  {
   "cell_type": "code",
   "execution_count": 11,
   "id": "53f032e6",
   "metadata": {},
   "outputs": [],
   "source": [
    "sample_sizes = [50, 100, 500, 1000, 2500]"
   ]
  },
  {
   "cell_type": "code",
   "execution_count": 12,
   "id": "9e0fbcf5",
   "metadata": {},
   "outputs": [],
   "source": [
    "res = []\n",
    "np.random.seed(4443)\n",
    "for size in sample_sizes:\n",
    "    samples = np.random.gamma(shape = 3, scale = 2, size = (500, size))\n",
    "    estimates = np.mean(samples, axis = 1)/3\n",
    "    temp_res = sum(abs(estimates - 2) > 0.01)\n",
    "    res.append(temp_res)\n",
    "    temp_res = -1"
   ]
  },
  {
   "cell_type": "code",
   "execution_count": 13,
   "id": "8ae8802c",
   "metadata": {},
   "outputs": [
    {
     "data": {
      "text/plain": [
       "[334, 374, 426, 462, 483]"
      ]
     },
     "execution_count": 13,
     "metadata": {},
     "output_type": "execute_result"
    }
   ],
   "source": [
    "sorted(res)"
   ]
  },
  {
   "cell_type": "code",
   "execution_count": 14,
   "id": "8e64f6c2",
   "metadata": {},
   "outputs": [
    {
     "name": "stdout",
     "output_type": "stream",
     "text": [
      "Для объема 50 расхождение между оценкой и истинным значением параметра превысило 0.01 в 483 случаев\n",
      "\n",
      "Для объема 100 расхождение между оценкой и истинным значением параметра превысило 0.01 в 462 случаев\n",
      "\n",
      "Для объема 500 расхождение между оценкой и истинным значением параметра превысило 0.01 в 426 случаев\n",
      "\n",
      "Для объема 1000 расхождение между оценкой и истинным значением параметра превысило 0.01 в 374 случаев\n",
      "\n",
      "Для объема 2500 расхождение между оценкой и истинным значением параметра превысило 0.01 в 334 случаев\n",
      "\n"
     ]
    }
   ],
   "source": [
    "for ind, elm in enumerate(sample_sizes):\n",
    "    print(f'Для объема {elm} расхождение между оценкой и истинным значением параметра превысило 0.01 в {res[ind]} случаев')\n",
    "    print()"
   ]
  },
  {
   "cell_type": "code",
   "execution_count": 15,
   "id": "550d95ae",
   "metadata": {},
   "outputs": [
    {
     "data": {
      "image/png": "[encoded data removed]",
      "text/plain": [
       "<Figure size 432x288 with 1 Axes>"
      ]
     },
     "metadata": {
      "needs_background": "light"
     },
     "output_type": "display_data"
    }
   ],
   "source": [
    "plt.plot(sample_sizes, res)\n",
    "plt.xlabel(\"Объем выборки\")\n",
    "plt.ylabel(\"Количество расхождений между оценкой и\"\n",
    "           \"\\n\"\n",
    "           \"истинным значением параметра\" \"\\n\"\n",
    "           \"больше, чем в 0.01\")\n",
    "plt.title(label = \"Визуализация расхождений\")\n",
    "plt.xticks([50, 500, 1000, 2500])\n",
    "plt.grid()\n",
    "plt.show()"
   ]
  },
  {
   "cell_type": "markdown",
   "id": "ec3283d7",
   "metadata": {},
   "source": [
    "Фактически мы наблюдаем, что с ростом объема выборки количество расхождений между оценкой и истинным значением параметра снижается - т.е. сближение значения оценки и истинного значения параметра. Отметим, что данный результат характеризует состоятельность нашей оценки - действительно, она состоятельна в силу закона больших чисел. <br>\n",
    "<br>\n",
    "Отметим также, что количество расхождений достаточно велико даже при большом объеме выборки (больше 1000), это объясняется тем, что дисперсия оценки равна в нашем случае даже при объеме 2500: $ \\text{Var}(\\hat{\\theta}_{\\text{MM}}) = \\large \\frac{\\theta^2}{kn} = \\frac{4}{7500}$.<br>\n",
    "Т.е. стандартное отклонение оценки равно $\\sqrt{\\frac{4}{7500}} = 0.0231$, что больше, чем 0.01. Отсюда велико количество случаев расхождений между оценкой и истинным значением параметра больше, чем в 0.01. "
   ]
  },
  {
   "cell_type": "code",
   "execution_count": 16,
   "id": "00ee0991",
   "metadata": {},
   "outputs": [
    {
     "data": {
      "text/plain": [
       "0.023094010767585032"
      ]
     },
     "execution_count": 16,
     "metadata": {},
     "output_type": "execute_result"
    }
   ],
   "source": [
    "np.sqrt(4/7500)"
   ]
  },
  {
   "cell_type": "code",
   "execution_count": null,
   "id": "d58d098c",
   "metadata": {},
   "outputs": [],
   "source": []
  },
  {
   "cell_type": "markdown",
   "id": "8802dbc1",
   "metadata": {},
   "source": [
    "### Задача 7"
   ]
  },
  {
   "cell_type": "markdown",
   "id": "a62cb37c",
   "metadata": {},
   "source": [
    "Используем параметризацию $p = \\theta$.<br>\n",
    "Вероятностная масса геометрического распределения (интерпретация - номер первого успеха в схеме Бернулли):<br>\n",
    "<br>\n",
    "$P(X = k) = (1-p)^{k-1}p; k \\in N$<br>\n",
    "<br>\n",
    "Матожидание величины:<br>\n",
    "<br>\n",
    "$E(X) = \\sum_{k = 1}^{\\infty} kP(X = k) = $<br>\n",
    "<br> $ = \\sum_{k = 1}^{\\infty} k(1-p)^{k-1}p = \\large -\\sum_{k = 1}^{\\infty} \\frac{d((1-p)^k)}{dp}p = -p\\frac{d(\\sum_{k = 1}^{\\infty}(1-p)^k)}{dp} = -p\\frac{d((1-p)/(1 - (1-p)))}{dp} = -p\\frac{d((1-p)/p)}{dp} = -p \\frac{-1}{p^2} = \\frac{1}{p}$.<br>\n",
    "<br>\n",
    "Здесь мы использовали смену порядка производной и суммирования, т.к. ряд абсолютно сходится, это бесконечно убывающая геометрическая прогрессия со знаменателем $0 \\leq 1-p \\leq 1$. В добавок использована известная формула суммы членов такой прогрессии.<br>\n",
    "<br>\n",
    "Приравнивая полученное ожидание к его выборочному аналогу - выборочному среднему, имеем оценку методом моментов:<br>\n",
    "<br>\n",
    "$\\large \\frac{1}{\\hat{\\theta}_{\\text{MM}}} = \\overline{x} \\longrightarrow \\hat{\\theta}_{\\text{MM}} = \\frac{1}{\\overline{x}}$.<br>\n",
    "<br>\n",
    "Т.к. в общем случае матожидание нелинейной функции не является таковой же функцией от матожидания, то:<br>\n",
    "<br>\n",
    "$\\large E(\\frac{1}{\\overline{x}}) \\neq \\frac{1}{E(\\overline{x})} = \\frac{1}{1/\\theta} = \\theta$ и оценка является смещенной.<br>\n",
    "<br>\n",
    "Т.к. оценка смещена, то мы не можем говорить о ее эффективности в классе несмещенных оценок, и неравенство Рао-Фреше-Крамера неприменимо (однако мы можем сравнивать ее (асимптотическую) MSE - среднеквадратическую ошибку, с MSE других оценок, для получения некоторого ранжирования имеющихся оценок по качеству).<br>\n",
    "<br>\n",
    "В силу закона больших чисел (он применим, т.к. матожидание величины существует и конечно, и выборка i.i.d.):<br>\n",
    "<br>\n",
    "$\\large \\overline{x} \\xrightarrow{p} \\normalsize E(X) = \\large \\frac{1}{\\theta} \\longrightarrow \\normalsize \\hat{\\theta}_{\\text{MM}} = \\large \\frac{1}{\\overline{x}} \\xrightarrow{p} \\frac{1}{1/\\theta} = \\theta$, и оценка является состоятельной; <br>\n",
    "<br>(здесь мы использовали CMT - теорему о непрерывном отображении, для функции $f(x) = \\large \\frac{1}{x}$, она удовлетворяет условиям теоремы, т.к. и сама случайная величина, и ее матожидание принимают только значения, отличные от 0 (поэтому данная функция от всех этих значений будет непрерывна)).<br>\n",
    "<br>\n",
    "Проведем теперь эксперимент:"
   ]
  },
  {
   "cell_type": "code",
   "execution_count": 18,
   "id": "ec74dfeb",
   "metadata": {},
   "outputs": [],
   "source": [
    "sample_sizes = [50, 100, 500, 1000, 2500]"
   ]
  },
  {
   "cell_type": "code",
   "execution_count": 19,
   "id": "5f7d00c9",
   "metadata": {},
   "outputs": [],
   "source": [
    "res = []\n",
    "np.random.seed(567)\n",
    "for size in sample_sizes:\n",
    "    samples = np.random.geometric(p = 0.3, size = (500, size))\n",
    "    estimates = 1/(np.mean(samples, axis = 1))\n",
    "    temp_res = sum(abs(estimates - 0.3) > 0.01)\n",
    "    res.append(temp_res)\n",
    "    temp_res = -1"
   ]
  },
  {
   "cell_type": "code",
   "execution_count": 20,
   "id": "5dad030c",
   "metadata": {},
   "outputs": [
    {
     "data": {
      "text/plain": [
       "[23, 89, 194, 349, 400]"
      ]
     },
     "execution_count": 20,
     "metadata": {},
     "output_type": "execute_result"
    }
   ],
   "source": [
    "sorted(res)"
   ]
  },
  {
   "cell_type": "code",
   "execution_count": 21,
   "id": "3395dcdd",
   "metadata": {},
   "outputs": [
    {
     "data": {
      "text/plain": [
       "[400, 349, 194, 89, 23]"
      ]
     },
     "execution_count": 21,
     "metadata": {},
     "output_type": "execute_result"
    }
   ],
   "source": [
    "res"
   ]
  },
  {
   "cell_type": "code",
   "execution_count": 22,
   "id": "75d6cb40",
   "metadata": {},
   "outputs": [
    {
     "name": "stdout",
     "output_type": "stream",
     "text": [
      "Для объема 50 расхождение между оценкой и истинным значением параметра превысило 0.01 в 400 случаев\n",
      "\n",
      "Для объема 100 расхождение между оценкой и истинным значением параметра превысило 0.01 в 349 случаев\n",
      "\n",
      "Для объема 500 расхождение между оценкой и истинным значением параметра превысило 0.01 в 194 случаев\n",
      "\n",
      "Для объема 1000 расхождение между оценкой и истинным значением параметра превысило 0.01 в 89 случаев\n",
      "\n",
      "Для объема 2500 расхождение между оценкой и истинным значением параметра превысило 0.01 в 23 случаев\n",
      "\n"
     ]
    }
   ],
   "source": [
    "for ind, elm in enumerate(sample_sizes):\n",
    "    print(f'Для объема {elm} расхождение между оценкой и истинным значением параметра превысило 0.01 в {res[ind]} случаев')\n",
    "    print()"
   ]
  },
  {
   "cell_type": "code",
   "execution_count": 23,
   "id": "3133dfd0",
   "metadata": {},
   "outputs": [
    {
     "data": {
      "image/png": "[encoded data removed]",
      "text/plain": [
       "<Figure size 432x288 with 1 Axes>"
      ]
     },
     "metadata": {
      "needs_background": "light"
     },
     "output_type": "display_data"
    }
   ],
   "source": [
    "plt.plot(sample_sizes, res)\n",
    "plt.xlabel(\"Объем выборки\")\n",
    "plt.ylabel(\"Количество расхождений между оценкой и\"\n",
    "           \"\\n\"\n",
    "           \"истинным значением параметра\" \"\\n\"\n",
    "           \"больше, чем в 0.01\")\n",
    "plt.title(label = \"Визуализация расхождений\")\n",
    "plt.xticks([50, 500, 1000, 2500])\n",
    "plt.grid()\n",
    "plt.show()"
   ]
  },
  {
   "cell_type": "markdown",
   "id": "972b2d49",
   "metadata": {},
   "source": [
    "Опять же, наблюдаем уменьшение количества расхождений между значением оценки и истинным значением параметра с ростом объема выборки - это снова подтверждение состоятельности нашей оценки (она состоятельна в силу закона больших чисел). <br>\n",
    "<br>\n",
    "Теперь, однако, результат немного другой относительно первой задачи - количество случаев расхождения уменьшается довольно значительно. Это объясняется, например, тем, что смещенная оценка может быть более эффективной, чем несмещенная, в плане минимизации MSE. Здесь мы наблюдаем бОльшую скорость сходимости к истинному значению параметра, чем в предыдущей задаче."
   ]
  },
  {
   "cell_type": "code",
   "execution_count": null,
   "id": "45fabc74",
   "metadata": {},
   "outputs": [],
   "source": []
  },
  {
   "cell_type": "code",
   "execution_count": null,
   "id": "f16d5b72",
   "metadata": {},
   "outputs": [],
   "source": []
  },
  {
   "cell_type": "code",
   "execution_count": null,
   "id": "0df5febe",
   "metadata": {},
   "outputs": [],
   "source": []
  },
  {
   "cell_type": "code",
   "execution_count": null,
   "id": "fc96a884",
   "metadata": {},
   "outputs": [],
   "source": []
  },
  {
   "cell_type": "code",
   "execution_count": null,
   "id": "db6428b5",
   "metadata": {},
   "outputs": [],
   "source": []
  },
  {
   "cell_type": "code",
   "execution_count": null,
   "id": "c86f7765",
   "metadata": {},
   "outputs": [],
   "source": []
  }
 ],
 "metadata": {
  "kernelspec": {
   "display_name": "Python 3 (ipykernel)",
   "language": "python",
   "name": "python3"
  },
  "language_info": {
   "codemirror_mode": {
    "name": "ipython",
    "version": 3
   },
   "file_extension": ".py",
   "mimetype": "text/x-python",
   "name": "python",
   "nbconvert_exporter": "python",
   "pygments_lexer": "ipython3",
   "version": "3.9.12"
  }
 },
 "nbformat": 4,
 "nbformat_minor": 5
}
